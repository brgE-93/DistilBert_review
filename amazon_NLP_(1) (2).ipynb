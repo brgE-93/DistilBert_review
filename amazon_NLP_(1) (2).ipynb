{
  "cells": [
    {
      "cell_type": "raw",
      "id": "f2b3e74d",
      "metadata": {
        "id": "f2b3e74d"
      },
      "source": [
        "Business Problem. My task is to build models which can identify the sentiment (from very satisfying to very unsatisfied) of each of these non-rated interactions."
      ]
    },
    {
      "cell_type": "code",
      "execution_count": null,
      "id": "e81d6269",
      "metadata": {
        "id": "e81d6269"
      },
      "outputs": [],
      "source": [
        "import numpy as np\n",
        "import pandas as pd\n",
        "import seaborn as sns\n",
        "import matplotlib.pyplot as plt\n",
        "\n",
        "import nltk\n",
        "from nltk import word_tokenize\n",
        "from sklearn.feature_extraction.text import CountVectorizer\n",
        "from sklearn.feature_extraction.text import TfidfVectorizer\n",
        "from collections import Counter\n",
        "from wordcloud import WordCloud\n",
        "import re"
      ]
    },
    {
      "cell_type": "markdown",
      "id": "0HzU3HJmfigk",
      "metadata": {
        "id": "0HzU3HJmfigk"
      },
      "source": [
        "# Exploratory Data Analysis:EDA"
      ]
    },
    {
      "cell_type": "code",
      "execution_count": null,
      "id": "V1-lhxdi3Bs8",
      "metadata": {
        "id": "V1-lhxdi3Bs8"
      },
      "outputs": [],
      "source": [
        "#Get our data\n",
        "Amazon_data=pd.read_csv('dataset_18000.csv')\n",
        "df=Amazon_data.copy()"
      ]
    },
    {
      "cell_type": "code",
      "execution_count": null,
      "id": "1d3IlTqrG_p9",
      "metadata": {
        "id": "1d3IlTqrG_p9"
      },
      "outputs": [],
      "source": [
        "def get_len(dataframe):\n",
        "  return len(dataframe)"
      ]
    },
    {
      "cell_type": "code",
      "execution_count": null,
      "id": "DcR81gnsED8M",
      "metadata": {
        "colab": {
          "base_uri": "https://localhost:8080/"
        },
        "id": "DcR81gnsED8M",
        "outputId": "3d69fa84-bf72-420f-b687-9fac7326a169"
      },
      "outputs": [
        {
          "name": "stdout",
          "output_type": "stream",
          "text": [
            "We have 18000 data\n"
          ]
        }
      ],
      "source": [
        "print(\"We have\",get_len(df),\"data\")"
      ]
    },
    {
      "cell_type": "code",
      "execution_count": null,
      "id": "13ae05a2",
      "metadata": {
        "id": "13ae05a2"
      },
      "outputs": [],
      "source": [
        "def null_values():\n",
        "  return df.isnull().values.any()"
      ]
    },
    {
      "cell_type": "code",
      "execution_count": null,
      "id": "RB7SIOasKXSN",
      "metadata": {
        "colab": {
          "base_uri": "https://localhost:8080/"
        },
        "id": "RB7SIOasKXSN",
        "outputId": "44b14bf6-23c7-460c-99b8-47b155add73f"
      },
      "outputs": [
        {
          "data": {
            "text/plain": [
              "True"
            ]
          },
          "execution_count": 8,
          "metadata": {},
          "output_type": "execute_result"
        }
      ],
      "source": [
        "#if True it means we have null value\n",
        "null_values()"
      ]
    },
    {
      "cell_type": "code",
      "execution_count": null,
      "id": "G995WvNnCm53",
      "metadata": {
        "id": "G995WvNnCm53"
      },
      "outputs": [],
      "source": [
        "def remove_null_rows(df):\n",
        "  df=df.dropna()\n",
        "  print(\"Number of rows after removing NUll data:\",get_len(df))"
      ]
    },
    {
      "cell_type": "code",
      "execution_count": null,
      "id": "bD1Tsk3lQv4V",
      "metadata": {
        "colab": {
          "base_uri": "https://localhost:8080/"
        },
        "id": "bD1Tsk3lQv4V",
        "outputId": "9bedf99a-4825-4130-e90c-14070fb59719"
      },
      "outputs": [
        {
          "output_type": "stream",
          "name": "stdout",
          "text": [
            "Number of rows after removing NUll data: 17999\n"
          ]
        }
      ],
      "source": [
        "remove_null_rows(df)"
      ]
    },
    {
      "cell_type": "code",
      "execution_count": null,
      "id": "317dd094",
      "metadata": {
        "colab": {
          "base_uri": "https://localhost:8080/",
          "height": 738
        },
        "id": "317dd094",
        "outputId": "5516a3b1-85a8-48d2-8d7f-93682fb125bf"
      },
      "outputs": [
        {
          "data": {
            "text/html": [
              "<div>\n",
              "<style scoped>\n",
              "    .dataframe tbody tr th:only-of-type {\n",
              "        vertical-align: middle;\n",
              "    }\n",
              "\n",
              "    .dataframe tbody tr th {\n",
              "        vertical-align: top;\n",
              "    }\n",
              "\n",
              "    .dataframe thead th {\n",
              "        text-align: right;\n",
              "    }\n",
              "</style>\n",
              "<table border=\"1\" class=\"dataframe\">\n",
              "  <thead>\n",
              "    <tr style=\"text-align: right;\">\n",
              "      <th></th>\n",
              "      <th>Id</th>\n",
              "      <th>ProductId</th>\n",
              "      <th>UserId</th>\n",
              "      <th>ProfileName</th>\n",
              "      <th>HelpfulnessNumerator</th>\n",
              "      <th>HelpfulnessDenominator</th>\n",
              "      <th>Score</th>\n",
              "      <th>Time</th>\n",
              "      <th>Summary</th>\n",
              "      <th>Text</th>\n",
              "    </tr>\n",
              "  </thead>\n",
              "  <tbody>\n",
              "    <tr>\n",
              "      <th>0</th>\n",
              "      <td>1</td>\n",
              "      <td>B001E4KFG0</td>\n",
              "      <td>A3SGXH7AUHU8GW</td>\n",
              "      <td>delmartian</td>\n",
              "      <td>1</td>\n",
              "      <td>1</td>\n",
              "      <td>5</td>\n",
              "      <td>1303862400</td>\n",
              "      <td>Good Quality Dog Food</td>\n",
              "      <td>I have bought several of the Vitality canned d...</td>\n",
              "    </tr>\n",
              "    <tr>\n",
              "      <th>1</th>\n",
              "      <td>2</td>\n",
              "      <td>B00813GRG4</td>\n",
              "      <td>A1D87F6ZCVE5NK</td>\n",
              "      <td>dll pa</td>\n",
              "      <td>0</td>\n",
              "      <td>0</td>\n",
              "      <td>1</td>\n",
              "      <td>1346976000</td>\n",
              "      <td>Not as Advertised</td>\n",
              "      <td>Product arrived labeled as Jumbo Salted Peanut...</td>\n",
              "    </tr>\n",
              "    <tr>\n",
              "      <th>2</th>\n",
              "      <td>3</td>\n",
              "      <td>B000LQOCH0</td>\n",
              "      <td>ABXLMWJIXXAIN</td>\n",
              "      <td>Natalia Corres \"Natalia Corres\"</td>\n",
              "      <td>1</td>\n",
              "      <td>1</td>\n",
              "      <td>4</td>\n",
              "      <td>1219017600</td>\n",
              "      <td>\"Delight\" says it all</td>\n",
              "      <td>This is a confection that has been around a fe...</td>\n",
              "    </tr>\n",
              "    <tr>\n",
              "      <th>3</th>\n",
              "      <td>4</td>\n",
              "      <td>B000UA0QIQ</td>\n",
              "      <td>A395BORC6FGVXV</td>\n",
              "      <td>Karl</td>\n",
              "      <td>3</td>\n",
              "      <td>3</td>\n",
              "      <td>2</td>\n",
              "      <td>1307923200</td>\n",
              "      <td>Cough Medicine</td>\n",
              "      <td>If you are looking for the secret ingredient i...</td>\n",
              "    </tr>\n",
              "    <tr>\n",
              "      <th>4</th>\n",
              "      <td>5</td>\n",
              "      <td>B006K2ZZ7K</td>\n",
              "      <td>A1UQRSCLF8GW1T</td>\n",
              "      <td>Michael D. Bigham \"M. Wassir\"</td>\n",
              "      <td>0</td>\n",
              "      <td>0</td>\n",
              "      <td>5</td>\n",
              "      <td>1350777600</td>\n",
              "      <td>Great taffy</td>\n",
              "      <td>Great taffy at a great price.  There was a wid...</td>\n",
              "    </tr>\n",
              "  </tbody>\n",
              "</table>\n",
              "</div>"
            ],
            "text/plain": [
              "   Id   ProductId          UserId                      ProfileName   \n",
              "0   1  B001E4KFG0  A3SGXH7AUHU8GW                       delmartian  \\\n",
              "1   2  B00813GRG4  A1D87F6ZCVE5NK                           dll pa   \n",
              "2   3  B000LQOCH0   ABXLMWJIXXAIN  Natalia Corres \"Natalia Corres\"   \n",
              "3   4  B000UA0QIQ  A395BORC6FGVXV                             Karl   \n",
              "4   5  B006K2ZZ7K  A1UQRSCLF8GW1T    Michael D. Bigham \"M. Wassir\"   \n",
              "\n",
              "   HelpfulnessNumerator  HelpfulnessDenominator  Score        Time   \n",
              "0                     1                       1      5  1303862400  \\\n",
              "1                     0                       0      1  1346976000   \n",
              "2                     1                       1      4  1219017600   \n",
              "3                     3                       3      2  1307923200   \n",
              "4                     0                       0      5  1350777600   \n",
              "\n",
              "                 Summary                                               Text  \n",
              "0  Good Quality Dog Food  I have bought several of the Vitality canned d...  \n",
              "1      Not as Advertised  Product arrived labeled as Jumbo Salted Peanut...  \n",
              "2  \"Delight\" says it all  This is a confection that has been around a fe...  \n",
              "3         Cough Medicine  If you are looking for the secret ingredient i...  \n",
              "4            Great taffy  Great taffy at a great price.  There was a wid...  "
            ]
          },
          "execution_count": 13,
          "metadata": {},
          "output_type": "execute_result"
        }
      ],
      "source": [
        "df.head()"
      ]
    },
    {
      "cell_type": "code",
      "execution_count": null,
      "id": "d45rmiwwNc8U",
      "metadata": {
        "id": "d45rmiwwNc8U"
      },
      "outputs": [],
      "source": [
        "#Remove useless column for our sentiment analysis\n",
        "cl=['ProductId','UserId','ProfileName','HelpfulnessNumerator','HelpfulnessDenominator','Time',]\n",
        "def new_df(df,cl):\n",
        "  return df.drop(columns=cl)"
      ]
    },
    {
      "cell_type": "code",
      "execution_count": null,
      "id": "9f30cc07",
      "metadata": {
        "id": "9f30cc07"
      },
      "outputs": [],
      "source": [
        "df=new_df(df,cl)"
      ]
    },
    {
      "cell_type": "code",
      "execution_count": null,
      "id": "npOuLXbYA-dI",
      "metadata": {
        "colab": {
          "base_uri": "https://localhost:8080/",
          "height": 206
        },
        "id": "npOuLXbYA-dI",
        "outputId": "fecb260d-d347-4a87-91b9-0e360159a2c7"
      },
      "outputs": [
        {
          "output_type": "execute_result",
          "data": {
            "text/plain": [
              "   Id  Score                Summary  \\\n",
              "0   1      5  Good Quality Dog Food   \n",
              "1   2      1      Not as Advertised   \n",
              "2   3      4  \"Delight\" says it all   \n",
              "3   4      2         Cough Medicine   \n",
              "4   5      5            Great taffy   \n",
              "\n",
              "                                                Text  \n",
              "0  I have bought several of the Vitality canned d...  \n",
              "1  Product arrived labeled as Jumbo Salted Peanut...  \n",
              "2  This is a confection that has been around a fe...  \n",
              "3  If you are looking for the secret ingredient i...  \n",
              "4  Great taffy at a great price.  There was a wid...  "
            ],
            "text/html": [
              "\n",
              "  <div id=\"df-9d0c1015-562b-4700-ac6a-0e19c6fd3598\">\n",
              "    <div class=\"colab-df-container\">\n",
              "      <div>\n",
              "<style scoped>\n",
              "    .dataframe tbody tr th:only-of-type {\n",
              "        vertical-align: middle;\n",
              "    }\n",
              "\n",
              "    .dataframe tbody tr th {\n",
              "        vertical-align: top;\n",
              "    }\n",
              "\n",
              "    .dataframe thead th {\n",
              "        text-align: right;\n",
              "    }\n",
              "</style>\n",
              "<table border=\"1\" class=\"dataframe\">\n",
              "  <thead>\n",
              "    <tr style=\"text-align: right;\">\n",
              "      <th></th>\n",
              "      <th>Id</th>\n",
              "      <th>Score</th>\n",
              "      <th>Summary</th>\n",
              "      <th>Text</th>\n",
              "    </tr>\n",
              "  </thead>\n",
              "  <tbody>\n",
              "    <tr>\n",
              "      <th>0</th>\n",
              "      <td>1</td>\n",
              "      <td>5</td>\n",
              "      <td>Good Quality Dog Food</td>\n",
              "      <td>I have bought several of the Vitality canned d...</td>\n",
              "    </tr>\n",
              "    <tr>\n",
              "      <th>1</th>\n",
              "      <td>2</td>\n",
              "      <td>1</td>\n",
              "      <td>Not as Advertised</td>\n",
              "      <td>Product arrived labeled as Jumbo Salted Peanut...</td>\n",
              "    </tr>\n",
              "    <tr>\n",
              "      <th>2</th>\n",
              "      <td>3</td>\n",
              "      <td>4</td>\n",
              "      <td>\"Delight\" says it all</td>\n",
              "      <td>This is a confection that has been around a fe...</td>\n",
              "    </tr>\n",
              "    <tr>\n",
              "      <th>3</th>\n",
              "      <td>4</td>\n",
              "      <td>2</td>\n",
              "      <td>Cough Medicine</td>\n",
              "      <td>If you are looking for the secret ingredient i...</td>\n",
              "    </tr>\n",
              "    <tr>\n",
              "      <th>4</th>\n",
              "      <td>5</td>\n",
              "      <td>5</td>\n",
              "      <td>Great taffy</td>\n",
              "      <td>Great taffy at a great price.  There was a wid...</td>\n",
              "    </tr>\n",
              "  </tbody>\n",
              "</table>\n",
              "</div>\n",
              "      <button class=\"colab-df-convert\" onclick=\"convertToInteractive('df-9d0c1015-562b-4700-ac6a-0e19c6fd3598')\"\n",
              "              title=\"Convert this dataframe to an interactive table.\"\n",
              "              style=\"display:none;\">\n",
              "        \n",
              "  <svg xmlns=\"http://www.w3.org/2000/svg\" height=\"24px\"viewBox=\"0 0 24 24\"\n",
              "       width=\"24px\">\n",
              "    <path d=\"M0 0h24v24H0V0z\" fill=\"none\"/>\n",
              "    <path d=\"M18.56 5.44l.94 2.06.94-2.06 2.06-.94-2.06-.94-.94-2.06-.94 2.06-2.06.94zm-11 1L8.5 8.5l.94-2.06 2.06-.94-2.06-.94L8.5 2.5l-.94 2.06-2.06.94zm10 10l.94 2.06.94-2.06 2.06-.94-2.06-.94-.94-2.06-.94 2.06-2.06.94z\"/><path d=\"M17.41 7.96l-1.37-1.37c-.4-.4-.92-.59-1.43-.59-.52 0-1.04.2-1.43.59L10.3 9.45l-7.72 7.72c-.78.78-.78 2.05 0 2.83L4 21.41c.39.39.9.59 1.41.59.51 0 1.02-.2 1.41-.59l7.78-7.78 2.81-2.81c.8-.78.8-2.07 0-2.86zM5.41 20L4 18.59l7.72-7.72 1.47 1.35L5.41 20z\"/>\n",
              "  </svg>\n",
              "      </button>\n",
              "      \n",
              "  <style>\n",
              "    .colab-df-container {\n",
              "      display:flex;\n",
              "      flex-wrap:wrap;\n",
              "      gap: 12px;\n",
              "    }\n",
              "\n",
              "    .colab-df-convert {\n",
              "      background-color: #E8F0FE;\n",
              "      border: none;\n",
              "      border-radius: 50%;\n",
              "      cursor: pointer;\n",
              "      display: none;\n",
              "      fill: #1967D2;\n",
              "      height: 32px;\n",
              "      padding: 0 0 0 0;\n",
              "      width: 32px;\n",
              "    }\n",
              "\n",
              "    .colab-df-convert:hover {\n",
              "      background-color: #E2EBFA;\n",
              "      box-shadow: 0px 1px 2px rgba(60, 64, 67, 0.3), 0px 1px 3px 1px rgba(60, 64, 67, 0.15);\n",
              "      fill: #174EA6;\n",
              "    }\n",
              "\n",
              "    [theme=dark] .colab-df-convert {\n",
              "      background-color: #3B4455;\n",
              "      fill: #D2E3FC;\n",
              "    }\n",
              "\n",
              "    [theme=dark] .colab-df-convert:hover {\n",
              "      background-color: #434B5C;\n",
              "      box-shadow: 0px 1px 3px 1px rgba(0, 0, 0, 0.15);\n",
              "      filter: drop-shadow(0px 1px 2px rgba(0, 0, 0, 0.3));\n",
              "      fill: #FFFFFF;\n",
              "    }\n",
              "  </style>\n",
              "\n",
              "      <script>\n",
              "        const buttonEl =\n",
              "          document.querySelector('#df-9d0c1015-562b-4700-ac6a-0e19c6fd3598 button.colab-df-convert');\n",
              "        buttonEl.style.display =\n",
              "          google.colab.kernel.accessAllowed ? 'block' : 'none';\n",
              "\n",
              "        async function convertToInteractive(key) {\n",
              "          const element = document.querySelector('#df-9d0c1015-562b-4700-ac6a-0e19c6fd3598');\n",
              "          const dataTable =\n",
              "            await google.colab.kernel.invokeFunction('convertToInteractive',\n",
              "                                                     [key], {});\n",
              "          if (!dataTable) return;\n",
              "\n",
              "          const docLinkHtml = 'Like what you see? Visit the ' +\n",
              "            '<a target=\"_blank\" href=https://colab.research.google.com/notebooks/data_table.ipynb>data table notebook</a>'\n",
              "            + ' to learn more about interactive tables.';\n",
              "          element.innerHTML = '';\n",
              "          dataTable['output_type'] = 'display_data';\n",
              "          await google.colab.output.renderOutput(dataTable, element);\n",
              "          const docLink = document.createElement('div');\n",
              "          docLink.innerHTML = docLinkHtml;\n",
              "          element.appendChild(docLink);\n",
              "        }\n",
              "      </script>\n",
              "    </div>\n",
              "  </div>\n",
              "  "
            ]
          },
          "metadata": {},
          "execution_count": 8
        }
      ],
      "source": [
        "df.head()"
      ]
    },
    {
      "cell_type": "code",
      "execution_count": null,
      "id": "32f8356e",
      "metadata": {
        "id": "32f8356e"
      },
      "outputs": [],
      "source": [
        "def wordinreview(dataframe):\n",
        "    dic={}\n",
        "    for index,rows in dataframe.iterrows():\n",
        "        dic[index]=len(rows['Text'].split(\" \"))\n",
        "    return pd.Series(dic)"
      ]
    },
    {
      "cell_type": "code",
      "execution_count": null,
      "id": "117c7c02",
      "metadata": {
        "id": "117c7c02"
      },
      "outputs": [],
      "source": [
        "## Getting the number of words by splitting them by a space\n",
        "def hist_lenght_word(df):\n",
        "  words_per_review=wordinreview(df)\n",
        "  words_per_review.hist(bins = 100)\n",
        "  plt.xlabel('Review Length (words)')\n",
        "  plt.ylabel('Frequency')\n",
        "  plt.show()"
      ]
    },
    {
      "cell_type": "code",
      "execution_count": null,
      "id": "Je3MfV_UsgHQ",
      "metadata": {
        "colab": {
          "base_uri": "https://localhost:8080/",
          "height": 449
        },
        "id": "Je3MfV_UsgHQ",
        "outputId": "3136e935-9423-4efc-9341-05f36cc740f0"
      },
      "outputs": [
        {
          "data": {
            "image/png": "[encoded data removed]",
            "text/plain": [
              "<Figure size 640x480 with 1 Axes>"
            ]
          },
          "metadata": {},
          "output_type": "display_data"
        }
      ],
      "source": [
        "hist_lenght_word(df)"
      ]
    },
    {
      "cell_type": "code",
      "execution_count": null,
      "id": "99951e01",
      "metadata": {
        "colab": {
          "base_uri": "https://localhost:8080/"
        },
        "id": "99951e01",
        "outputId": "84c2a6db-8028-4ef2-830c-347d8bcbba78"
      },
      "outputs": [
        {
          "name": "stdout",
          "output_type": "stream",
          "text": [
            "Average words: 78.07866666666666\n",
            "max num words : 1707\n",
            "Skewness: 4.297628076912972\n"
          ]
        }
      ],
      "source": [
        "#in average we have  word per review\n",
        "def Print_info_word():\n",
        "    print('Average words:', wordinreview(df).mean())\n",
        "    print('max num words :', wordinreview(df).max())\n",
        "    print('Skewness:', wordinreview(df).skew())\n",
        "Print_info_word()"
      ]
    },
    {
      "cell_type": "raw",
      "id": "771cf8e2",
      "metadata": {
        "id": "771cf8e2"
      },
      "source": [
        "We can see that the number of words per user review is highly positive skewed(4.3) with mean of 79.5, which means that on average, user reviews have 79 words.We can have very long review , until 1772 words ."
      ]
    },
    {
      "cell_type": "code",
      "execution_count": null,
      "id": "9fb19e6e",
      "metadata": {
        "colab": {
          "base_uri": "https://localhost:8080/",
          "height": 425
        },
        "id": "9fb19e6e",
        "outputId": "95c84532-61b8-41af-fa58-1aeb65bf71e1"
      },
      "outputs": [
        {
          "data": {
            "image/png": "[encoded data removed]",
            "text/plain": [
              "<Figure size 640x480 with 1 Axes>"
            ]
          },
          "metadata": {},
          "output_type": "display_data"
        }
      ],
      "source": [
        "#distribution rating\n",
        "rating_percent=100*df.Score.value_counts()/len(df)\n",
        "rating_percent.plot.bar()\n",
        "plt.show()"
      ]
    },
    {
      "cell_type": "raw",
      "id": "b5b85ebc",
      "metadata": {
        "id": "b5b85ebc"
      },
      "source": [
        "We can see that the distribution is quite skewed, with a giant number of 5s and very few 3s, 2s, and 1s."
      ]
    },
    {
      "cell_type": "raw",
      "id": "dc5c8310",
      "metadata": {
        "id": "dc5c8310"
      },
      "source": [
        "vizualisation with WorldCLoud"
      ]
    },
    {
      "cell_type": "code",
      "execution_count": null,
      "id": "c13a6a99",
      "metadata": {
        "id": "c13a6a99"
      },
      "outputs": [],
      "source": [
        "from PIL import Image\n",
        "from nltk.corpus import stopwords\n",
        "from wordcloud import ImageColorGenerator,STOPWORDS,WordCloud"
      ]
    },
    {
      "cell_type": "code",
      "execution_count": null,
      "id": "e8333b5f",
      "metadata": {
        "id": "e8333b5f",
        "outputId": "1d93d365-794c-49f1-cfd2-26694afb4d02"
      },
      "outputs": [
        {
          "data": {
            "image/png": "[encoded data removed]",
            "text/plain": [
              "<Figure size 640x480 with 1 Axes>"
            ]
          },
          "metadata": {},
          "output_type": "display_data"
        }
      ],
      "source": [
        "# Combine all the text into a single string\n",
        "def Print_Word_Cloud():\n",
        "    text = ' '.join(df['Text'])\n",
        "\n",
        "\n",
        "\n",
        "    wordcloud = WordCloud(max_font_size=100, # Maximum font size for the largest word\n",
        "                          max_words=100, # The maximum number of words\n",
        "                          background_color=\"white\", # Background color for the word cloud image\n",
        "                          scale = 10, # Scaling between computation and drawing\n",
        "                          width=800, # Width of the canvas\n",
        "                          height=400 # Height of the canvas\n",
        "                         ).generate(text)\n",
        "\n",
        "    plt.figure()\n",
        "    plt.imshow(wordcloud,\n",
        "               interpolation=\"bilinear\") # to make the displayed image appear more smoothly\n",
        "    plt.axis(\"off\")\n",
        "    plt.show()\n",
        "\n",
        "Print_Word_Cloud()"
      ]
    },
    {
      "cell_type": "raw",
      "id": "8ed05530",
      "metadata": {
        "id": "8ed05530"
      },
      "source": [
        "Br its for the space its not relevant.taste, love , amazon (the name of the website) love and great (thats why we have more 5 rating"
      ]
    },
    {
      "cell_type": "markdown",
      "id": "4a26c2ad",
      "metadata": {
        "id": "4a26c2ad"
      },
      "source": [
        "### Check for pre-processing"
      ]
    },
    {
      "cell_type": "code",
      "execution_count": null,
      "id": "25758a03",
      "metadata": {
        "id": "25758a03"
      },
      "outputs": [],
      "source": [
        "#remove links and tags\n",
        "def Clean_reviews(text):\n",
        "    # Remove links\n",
        "    text = re.sub(r'http\\S+|www\\S+|https\\S+', '', text)\n",
        "\n",
        "    # Remove tags\n",
        "    text = re.sub(r'<.*?>', '', text)\n",
        "\n",
        "    return text\n",
        "\n",
        "# Apply the function to the 'Text' column\n",
        "df['Text'] = df['Text'].apply(Clean_reviews)\n"
      ]
    },
    {
      "cell_type": "code",
      "execution_count": null,
      "id": "985695b1",
      "metadata": {
        "id": "985695b1",
        "outputId": "786aec17-ef40-48f6-e6d1-0d13e831fad9"
      },
      "outputs": [
        {
          "data": {
            "image/png": "[encoded data removed]",
            "text/plain": [
              "<Figure size 640x480 with 1 Axes>"
            ]
          },
          "metadata": {},
          "output_type": "display_data"
        },
        {
          "name": "stdout",
          "output_type": "stream",
          "text": [
            "Average words: 78.07866666666666\n",
            "max num words : 1707\n",
            "Skewness: 4.297628076912972\n"
          ]
        }
      ],
      "source": [
        "Print_Word_Cloud()\n",
        "Print_info_word()"
      ]
    },
    {
      "cell_type": "code",
      "execution_count": 1,
      "id": "53b36731",
      "metadata": {
        "id": "53b36731"
      },
      "outputs": [],
      "source": [
        "#!pip install emoji"
      ]
    },
    {
      "cell_type": "code",
      "execution_count": null,
      "id": "214ee633",
      "metadata": {
        "id": "214ee633",
        "outputId": "7485c0ff-f175-42c4-d32b-cad6272c5b53"
      },
      "outputs": [
        {
          "name": "stdout",
          "output_type": "stream",
          "text": [
            "Index: 528\n",
            "Text: I once loved these chips and they were the only chips i would buy.  I discovered them when I was in England back in 2000 and quickly became a fan.  About a year ago I picked up a bag that was on sale at my local supermarket.  I was finding it odd that they were on sale so much but took advantage of it.  After opening the bag I found the chips were not even close to the Kettle chips I was used to.  They were all uniform whitish yellow in color, flavor was way off, the lovely extra crisp brown chips were gone completely and I was very disappointed.  So I e-mailed Kettle with the following:  \"What Happened? I bought this bag of chips the other day and they have a very different taste; It tastes \"cheaper\". I don't know how else to put it... I also noticed that the chips seemed to be less cooked as I did not see any of the browner colored chips that have the most flavor. I am hoping that nothing has changed with the ingredients or process used to produce this product. Did I just get a weird batch? I have been buying only Kettle Chips for about 10 years now so I am wondering.\"  I did receive a reply: \"Thanks for letting us know about your experience with your Kettle Brand® Chips. It sounds like you may have received a bag that should not have slipped by our inspections, and we apologize.Our potatoes do vary seasonally which could account for a variation in color-but our chips should still taste great!Thanks for providing us with the \"best before\" code from the bag.  This really helps when passing on your comments to our staff.We are sending some coupons to replace your purchase with any of our Kettle Brand® flavors or nut butters, believing you will have a great experience with your next purchase! In case you buy this product again, we suggest avoiding the same best before date (if you still have it) in the rare instance another bag from the same case slipped by our inspections at the same time.Thanks again for letting us know about this and expect the coupons to arrive within 3 weeks.  Please let me know if I can be of any more help.\"  Well the next bag was good.  Since that time I have picked up 3 bags of chips all were like the \"bad\" bag so I am pretty sure that they have changed there product to reduce cost.  I did some research and found out that Kettle was bought out by a private equity company.  So the same cookie cutter management processes are probably being employed at Kettle.  Acquire company with high quality brand recognition, sell product to mass merchants, lower quality/cost of product to increase margin and finally sell company just before the customer base starts to realize that the brand is no longer a quality brand.  increased profits make the company more valuable on paper so they make a nice profit for the investors. Customer and employees lose out of course as does an unsuspecting buyer of the exploited brand.  Stay away from Kettle chips they are no longer the same...\n",
            "\n",
            "Index: 571\n",
            "Text: With Kettle Chips, you really have to be careful.  Some of their flavors are nauseating.  With that said, they DO make fantastic plain chips.  Thick cuts of potato, fried to a dark golden brown.  They are crunchy and lightly salted with sea salt.  I can't recommend these chips enough.  You won't regret it.Some people say they are burnt but they aren't.  From their website: \"Take a quick look and you'll see an immediate difference: Kettle Brand® Potato Chips are a beautiful tawny gold. During cooking, the natural sugars of our select potatoes caramelize, creating chips from light gold to a deep amber.  The results are flavors as deep and rich as the colors, and an artisanal display in every bag\"Some have also said that these chips are oily, which is true.  But they explain that on their website: \"At Kettle Foods we exclusively use expeller pressed high monounsaturated sunflower and/or safflower oil to make Kettle Brand®  products. Both of these oils are naturally free of trans fatty acids and are not hydrogenated in any way. We have taken the extra step of sending our products to independent third party labs to test for the presence of trans fats and results indicate we are \"trans fat free\" meaning none were detected. You will see zero trans fats listed on our packaging.\"  That oiliness is natural and happens when quality oil is being used.You will not find chips with such a natural potato flavor.  I'm also a fan of their unsalted potato chips.  For those of us watching our salt intake, the unsalted chips is the best you can get.  Period.\n",
            "\n",
            "Index: 1497\n",
            "Text: MY QUESTION FOLLOWED BY THEIR REPLY - VERY GOOD CUSTOMER SERVICE!!Hey guys,So we are trying to feed a new born as much breast milk as we can, however there is not enough to meet his nutritional needs.So a formula is in order as a supplement. With that, we are interested in your toddler formula, and it appears that since this meets the FDA Infant Formula Guidelines, that it should be safe, (and opinions on the Internet seem to feel the same way). However, our doctor says that it should not be used because of the higher amounts of calcium and phosphorous. He was also concerned about using the DHA/ARA supplement with concerns about the egg white process and that the proteins in egg whites are not good for an infant. Any thoughts on this? Thanks!THEIR ANSWERDear Dave,Thank you for contacting Nature's One®.  Firstly, you are correct in that our Baby's Only Organic® formulas meet the nutritional requirements of the FDA's Infant Formula Act. No dilution is needed for babies under 12 months of age. Please follow label mixing instructions.Regarding the calcium and phosphorous content in Baby's Only Organic® formulas, calcium is an essential nutrient needed for bone health. The American Academy of Pediatrics Expert Panel for Nutrient Levels in Infant Formula has provided recommendations on the amount of calcium with the minimum per 100 Calories being 50 milligrams and the maximum being 140 milligrams per 100 Calories. Phosphorus is another important mineral for bone health. The Expert Panel has also recommended that the calcium to phosphorus ratio in an infant formula be no less than 1.1 or more than 2.0. Baby's Only Organic® falls within these ranges with our calcium at 135 milligrams per 100 Calories and a calcium to phosphorus ratio of 1.5.Reference: Committee on Nutrition, Pediatric Nutrition Handbook, The American Academy of Pediatrics, 2009, pages 1245-1246.The balance between calcium and phosphorus is most important for bone development. The calcium to phosphorus ratio in both Baby's Only Organic® formula and Enfamil NextStep is 1:5. Thus, Baby's Only Organic® formulas provide an appropriate ratio of calcium and phosphorus for toddlers and an appropriate overall quantity of calcium and phosphorus.Regarding our Baby's Only Essentials® DHA/ARA supplement, The DHA utilized in our Baby's Only Essentials® DHA & ARA supplement is sourced from egg yolk phospholipids. You are probably aware that most often an egg allergy is caused by the egg white rather than the yolk. Additionally, it is the protein component of foods that usually elicit an allergic reaction. Because we use the phospholipids (not protein) from the egg yolk, there is only a very minute chance that an allergic response will ensue.If your child has a history of allergies, we highly recommend that you consult your child's healthcare provider.DHA is also found naturally in other foods, including oily fish like trout, sardines, tuna and salmon and the yolk of eggs. Dietary ARA is available from animal meats, dairy foods, eggs, peanuts and nori seaweed. As your child increases the variety of foods in her diet, you can include some of these foods in her diet. Other natural sources of DHA would include fish oil or fish oil supplements. Unfortunately, it is difficult to insure that these are free from mercury or other environmental toxins. But, also remember that these fatty acids can be formed from dietary linoleic and linolenic acids (nuts, seeds, grains legumes, vegetables and their cold-pressed oils). By including good sources of high quality fats in the diet, your child will easily be able to meet her specific needsMost egg allergies are a result of ingestion of egg white; egg yolk allergies are rare.Proteins are the component of foods that cause allergic reactions. Egg allergy is usually due to the proteins in the egg white. These protein allergens are: ovomucoid, ovalbumin, ovotransferrin; lysozyme, and ovomucin.However, there can be a rare situation of egg yolk allergy. The literature to date usually associates egg yolk allergy to a reaction triggered by inhaled bird allergen, referred to as Bird-egg syndrome. This is a very rare syndrome.Egg allergy can also be seasonal. Oak pollen, short and western ragweed and the goosefoot family of weeds may cross react with eggs when these pollens are in season.The estimated point prevalence of egg allergy in children is 1.6% by 2.5 years of age. (1) Again, egg white is usually the cause of an egg allergy. Most children outgrow an allergy to eggs by 5 years of age. (1) Eggesbo M, Botten G, Halvorsen R, Magnus P, \"The prevalence of allergy to egg: a population-based study in young children,\" Allergy 56; 5:403I hope this information is helpful to you. Thank you for your interest in Baby's Only Organic® formulas. Please let me know if you have additional questions.Sincerely,LoriNature's One Inc.[...][...]Toll Free [...]\n",
            "\n",
            "Index: 3535\n",
            "Text: It wasn't a bad purchase at just $9.99 through Warehouse Deals fulfilled by Amazon and shipped for free, but took 2 stars off because it wasn't a freshness issue but Cracker Jacks® just don't taste the same like when I was a kid back in the 1980's.\n",
            "\n",
            "Index: 5442\n",
            "Text: Here is the response I got to my emailed question about BPA in the lids of their glass jars:While all of our Earth's Best Foods were and are safe; Earth's Best Organic® jarred baby food was converted to packaging that does not use BPA in October, 2011.That satisfies my concerns. They include a 1-800 number if people have further questions: please feel free to contact us at 1-800-434-4246, Monday through Friday from 7AM - 5PM Mountain Time.I don't know why they don't advertise this on the packaging, website, etc. It would reassure a lot of parents!\n",
            "\n",
            "Index: 5798\n",
            "Text: Would have rated no star if available.  Beefeaters® Chicken Liver Freeze Dried Treats for Dogs, are a product of China, and irradiated \"for your protection\" according to the company's hold message.  Called Amazon.com customer service, and requested a full refund with pre-paid returned shipping.  Too bad none of this is in the product description.  Amazon CSR was very helpful, and very cooperative, postage paid shipping label received via email immediately.  Thank you, Amazon.com!\n",
            "\n",
            "Index: 6762\n",
            "Text: I was offered the opportunity to taste this product because of Vine. I would not normally purchase this type of product, so my review and opinion will be biased in that regard.I'm not a big soda drinker, I'd just rather drink water or coffee. I will occasionally drink a diet soft drink, usually Diet Pepsi or Diet Coke.Did you know that a single 12oz can of Coke Classic® has 140 calories and 39 grams of sugar? This 8oz can of Switch has 140 calories and 34grams of sugar. And this is healthy? 4 ounces less is size, same caloric content and more sugar per ounce that Classic Coke. OK, so it's not \"added\" sugar, but still, that's a lot of sugar. 100% Orange juice, 8 oz, has 120 calories and 28 grams of sugar.The can says it is \"Orange Tangerine\" but in fact the contents are #1: Water #2: Concentrates of Apple, Grape, Tangerine, Orange, and Acerola juices. Then they throw in some \"gum acacia\", \"natural flavors and colors\" and some \"ascorbic acid(vitamin C)\". And as a little surprise bonus, they have added \"soy\". Soy?I asked my wife to taste this product with me. I poured the drink into two glasses and we both took a sip. Her reaction was swift and strong... she hated it. I agreed with her. It was for me, sickly sweet and left a sugary aftertaste in my mouth. Not only that, but the taste was just nasty. It didn't taste at all like orange or tangerine to me. It just tasted terribly sweet with an undefined cirtus something taste. The carbonation did not add anything positive to the experience. Neither of us finished drinking our 4oz portion. It went down the sink.I would not purchase this product in the future and if I could have given it 0-stars, I would have. It's that bad.\n",
            "\n",
            "Index: 10004\n",
            "Text: We breastfeed our month old boy, but since his bilirubin level was still high, doctors recommended to switch to formula for 48 hours. We started with Similac Advance (Shield Plus) which we still had from hospital. First 24 hours were wonderful in terms of pooping, then we decided to switch to Similac Organic for known reasons, but during the first 32-Ounce Bottle I began to notice that his stool was getting harder, and eventually he stopped pooing (actually he produced two stone-ball like poops) and had a hard time for another 24 hours. Breast milk and Similac advance tested similarly sweet, but Similac Organic was much much less sweet. I made a research on the internet and I found the following that may help you to understand the cause of constipation: ( />Constipation means infrequent, hard stools. It does not mean grunting or straining, although your baby may certainly exhibit these behaviors when having a bowel movement. So the first question to ask is, \"Is my child really constipated?\"Next, consider why true constipation - excessively hard, dry stools - arises. The normal function of the colon is to remove water from the stool. Otherwise we would rapidly dehydrate and die. That is why severe diarrhea is dangerous - the stool is moving through the colon and being expelled from the body so fast, there is no time to properly reabsorb the stool water back into the bloodstream.Conversely, if the fecal material remains in the colon too long, the water removal process may extract too much of the fecal water and leave the stool mass excessively dry and hard. It is just that simple.So constipation arises when feces remain in the colon too long because:  * the colon is naturally sluggish (has decreased \"motility,\" we say)  * a low residue diet produces insufficient stimulation to the colon to trigger its normal propulsive activity and clear out the feces  * a combination of the above two factors  * there is obstruction of the lower GI tract  o functional neurologic - the lower rectum and anus cannot properly relax to allow evacuation - Hirschprung disease  o functional anatomic - anal-rectal positioning doesn't allow easy evacuation  o mechanical - a tumor physically blocks stool passageBreast fed babies are essentially never truly constipated. This is because breast milk is such a low residue diet. Almost all of the milk is absorbed by the baby and used. The stools consist of a small amount of unabsorbed protein curds and a large amount of bowel secretions, chiefly mucus. And of course a lot of noisy gas. But these infrequent stools do not indicate constipation - just infrequent stools.Later, when breast feeding infants start solids, they technically can become constipated, but it is unusual in my experience. It is not until the child is pretty much on solids and especially when weaned to whole cow milk that constipation is much of an issue. By then we are really discussing toddlers.Breast fed infants do tend to save up after the first few months and poop less often. This worries some parents. Despite reassurances to the contrary, some folks just have to see a poop every day from their little darling to be happy and fulfilled. Go figure. They forget that stool can stay in the colon for a very, very long time and it will not hurt anything.When the stool hoarding breast feeder does finally get ready to go, another problem comes to the fore: grunting and straining. When the baby's rectum forms in utero, it is in a state of permanent contraction for nigh onto nine months. The baby does not pass the meconium (fetal stool) in utero until perhaps right at the end of gestation right before, during or after delivery. Until the baby is several months old, and has passed and been stretched by quite a few bowel movements, the rectum and particularly the anus may be quite tight and resist easy dilation to allow the stool to pass. Because the baby has weak, flabby abdominal musculature (that is why his little tummy is so poochy), he must push against this tight anal spincter with his diaphragm. Just as Mom pushed during delivery, and with seemingly equal discomfort. Hence the grunting and red-faced straining.  The other major problem of both breast or bottle fed newborns which creates this sort of straining is dyschezia, or uncoordinated stooling.The cure for the problem of a tight anus is pretty simple: a gentle rectal exam with a well-lubricated pinky finger by the doctor (which should be done on all babies with stooling troubles anyway to rule out a physical obstruction) will be both diagnostic and curative. If one such gentle dilation doesn't do the trick, I have Mom bring the baby back in a week and repeat the procedure. The anal spincter is stretched, and pretty soon, no more terrible straining.TopBottle fed infants are \"a whole 'nother story.\" Infant formulas are not nearly as well digested as breast milk, and leave quite a bit more residue in the colon. (The exception to this rule in my mind is the new Similac® that really does seem to leave the stools about the same consistency as breast milk.) So true constipation in bottle fed infants is much more common; my feeling is that soy formulas are even worse than cow milk based formulas in this regard.The young infant's colon is simply not designed for all the residue and stool bulk. The residue builds up, is dried too much, and becomes hard, pebbly stool. It is naturally difficult and uncomfortable for the baby to pass.The addition of cereal to the diet only compounds whatever problems already exist. Cereal + milk = concrete. Cereal in the formula bottle seems to be especially bad, probably because parents don't realise just how much cereal the baby is getting.TopTreatment of constipation mainly involves common sense diet modifications and sometimes medication:  * Again, as with breast fed babies, a search for the cause of the constipation and gentle rectal exam can work wonders.  * I use a lot of Karo® corn syrup for bottle feeders with constipation. It is my first choice recomendation; it almost always works if used properly. Unfortunately, many doctors and nurses don't use it properly, get poor results, and don't recommend it as often as they should. I start with two measuring teaspoons in every formula bottle, regardless of size, and adjust the dose up or down depending on how things are going. Usually, the baby can be weaned off the Karo pretty soon, but may need to stay on it periodically for the first few months of life. It is very important to put the corn syrup in the formula and not give it in between in water. The excess corn syrup does not get digested very well - the baby is already digesting all the sugar he can from the formula. The excess sugar passes down to the colon and produces a sugar diarrhea similar to sorbitol (as below, prunes, apple juice).  Before scolding me about \"the risk of botulism\" from corn syrup, please see:  Clinical Pediatric Emergency Medicine, Volume 4,Number 3,September 2003: \"Pediatric neurologic potpourri: cases to remember\"  \"In the past, C. botulinum was also found in corn syrup, but this is no longer a risk factor for infant botulism because of a recent change in the processing formula.\"  For the complete source of statement, see: Olsen SJ, Swerdlow DL. Risk of infant botulism from corn syrup. In reply. Pediatr Infect Dis J 2000;19:584-5.  * Certain fruits and juices - for example prunes, apple juice, apricots - are rich in sorbitol, a nondigestible sugar that passes through the body to the colon and causes water to be retained or drawn into the stool mass. They can be increased in the diet to loosen the stool and relieve or prevent constipation.  * Lactulose is a non-absorbable sugar product that is processed by colon bacteria to produce an inflow of water into the stool mass. We use it a lot - it seems to be a favorite of our local pediatric gastroenterologists. The dose is adjusted up or down according to respose. Side effects are usually not serious but can include cramping or diarrhea - obviously, stop the medicine and call your doctor if these occur.  * Glycerine suppositories are helpful to relieve your child if there is some hard stool that just won't come out easily. The suppository melts in the heat of the rectum and lubricates the stool. Glycerine also has a mild effect of attracting water into the stool, which softens it. The act of insertion also serves to stimulate the rectum and anus to initiate the defecation reflex. (Glycerine is completely safe - it is a food, found in candy, not a drug.)  * Fiber containing foods are helpful for older children and adults, but are not really of much use in the treatment of young infant constipation, for dietary reasons: babies just don't eat a lot of fiber. (I believe ISoyalac®, which was a high fiber soy formula, has been discontinued. It was never very available any place I practiced, anyway.)TopMyths and misconceptions concerning infant constipation:  * Iron in the formula causes constipation. No way. I can understand lay people thinking this to be the case because when adults take iron preparations (in large doses) they may become constipated. But the tiny amount present in infant formula is not nearly enough to cause any problems.  The irritating thing to me is to hear doctors and nurses who should know better repeating this nonsense and switching the infants to the less healthy low- or no-iron formulas.  * Increasing water in the diet is commonly recommended; it makes very little sense and demonstrates a failure to reflect on the basic physiologic cause of the overdry stool. The problem is too little water retention in the stool, not too little water in the body! Unless there is increased fiber or some chemical substance such as a sugar (Karo®, lactulose) to retain the water in the stool, excess water will simply wind up in the diaper as urine.Top\n",
            "\n",
            "Index: 10540\n",
            "Text: This is a great product for those who need gluten, dairy & casein free foods.Of course it doesn't taste like REAL macaroni and cheese! Geez - do you really think shelled hemp nuts and other things are going to give you a creamy cheesey texture or taste? If you're looking for something to replicate annies GF mac and cheese (which DOES contain dairy) then you will search in vain. You cannot get real cheese flavor from non-cheese products.However, if you're realistic and are aware that non cheese stuff won't actually taste like cheese yet you want something similar to mac & cheese then this is a great option! We really like this mix. It has a unique taste. We tend to alternate this stuff with Road's End Organics GF Cheddar Penne & Chreese®  The Road's end is closer to cheese but again, those who want a real cheese flavor/consistency will be sorely disappointed. However, for those of us who cannot have real cheese this stuff is great.We mix in veggies with ours (you know the ones that are little squares of carrots, peas, corn, etc.) and I use hemp milk when mixing for a bit more substance and flavor. Also if you add a bit of trocomare  it makes a huge difference in flavor (actually trocomare makes a huge difference in the flavor of everything! We love it and use it on just about everything.So - for those who expect a real cheese flavor - don't even bother and stick with real cheese or change your expectations.For those who realize it won't taste like real cheese but who want something different and unique (and gluten, dairy, casein free) - buy this, it's great!!!\n",
            "\n",
            "Index: 12240\n",
            "Text: My puppy loves these vitality treats. After reading the other two reviews I became concerned and quickly e-mailed the company with my concerns. Here is what they replied to me which immediately relieved my worries. They also sent me documentation of their checks on the products and pictures of the non-caged chickens.Hello Karen,Thank You for contacting us here at DOGSWELL®.The DOGSWELL® manufacturing facilities meet the highest and most strict sanitary conditions. All of our plants have HACCP programs, have received high scores by independent Third Party auditors, have strict raw ingredient standards and continuously check our products during processing and when they are finished to ensure they meet our high quality standards. Our wet food for dogs, our dry food for dogs and our biscuits are manufactured in the U.S. and our treats are manufactured in China. We regularly visit our manufacturing facilities to ensure the quality and safety of our products. We are always looking to bring the manufacturing over to the United States, we have just not found a supplier who will add all of the vitamins and nutrients that we want at a price the consumer is willing to pay, once we find one, we will definitely bring it back over to the US.We don't determine our source country for ingredients based solely on the country of origin; we find the best quality ingredient combined with the highest quality supplier and testing specifications and select them. You can be confident that DOGSWELL® products are natural, high-quality and provide the best for your pet.Please know we certify that our products are safe and clean with regular testing and ensure that our products meet high quality standards. We test product from each batch that is produced and have never had our results come back positive for ANY harmful ingredients such as cyanuric acid, melamine, e.coli and salmonella. Moreover, please note that no DOGSWELL® product contains milk powder.We regularly test our products for any harmful contaminants and to ensure that they meet our quality standards. Along with an in-depth knowledge of our supply chain, our regular tests assure our customers that we are providing their pets with only the very best ingredients. Tests are conducted at independent, third-party, U.S. laboratories that follow FDA and APPMA-approved methodology. Please see attached for an example of test results for our treats; I have attached one of our VITALITY(tm) products that were tested recently.Our material suppliers are certified clean and clear of any contaminants. If raw ingredients do not meet their specifications and pass safety tests, then the ingredient is rejected immediately and never enters our processing facilities. Moreover, we strive to use products from suppliers that treat their animals humanely. Please see attached for an image of our chickens in their barn. I do not know of a reliable site that describes the process.Please know that we honestly believe that pets are family too and we feed our products to our own pets regularly. Again, we test product from each batch that is produced and have never had our results come back positive for ANY harmful ingredients.Please don't hesitate to contact me with ANY questions.Thank You,JeffJeff HaluckMarketing Assistant\n",
            "\n",
            "Index: 13972\n",
            "Text: Hamburger Helper is a quick fix dinner for our sons (ages 8 and 7) on nights when school activities and/or swimming or judo lessons push our family schedule into the night.Chili Macaroni is one of the five Mexican flavors Hamburger Helper offers. Cheesy Enchilada, Cheesy Nacho, Crunchy Taco and Double Cheese Quesadilla are the others. Each package makes five one-cup servings. Our sons like the Old El Paso® seasoning;  and  are too bland for their tastes. This flavor has just the right amount of spice and seasonings to appeal to the under-10-year-old crowd. The box suggests adding a 4.5 oz. can of Old El Paso chopped green chiles five minutes before the end of the simmer time.A prepared serving (one cup) has 270 calories, 570 mg of sodium and 0.5 g of fat; it also provides a good carb load - 22 grams - and 3 g of protein.Adding the cost of the ground hamburger and vegetables as a side dish, we are able to feed two boys for less than $5 and still have enough leftovers to prepare them a weekend lunch.In summary, while this isn't Haute cuisine,  is an inexpensive option when pressed for time. For price and convenience, I give the product a five-star rating. For taste, I give it three stars. Again, though, I'm not the target audience, so I'm settling on a four-star rating. The slogan on the box sums it up well, \"One pound. One pan. One tasty meal.\"\n",
            "\n",
            "Number of rows with emojis: 11\n"
          ]
        }
      ],
      "source": [
        "# Function to check if emojis exist in text\n",
        "def has_emoji(text):\n",
        "    for character in text:\n",
        "        if emoji.is_emoji(character):\n",
        "            return True\n",
        "    return False\n",
        "\n",
        "# Find rows with emojis\n",
        "rows_with_emoji = df[df['Text'].apply(has_emoji)]\n",
        "\n",
        "# Print rows and their indices\n",
        "for index, row in rows_with_emoji.iterrows():\n",
        "    print(\"Index:\", index)\n",
        "    print(\"Text:\", row['Text'])\n",
        "    print()\n",
        "\n",
        "# Count the number of rows with emojis\n",
        "num_rows_with_emoji = len(rows_with_emoji)\n",
        "\n",
        "print(\"Number of rows with emojis:\", num_rows_with_emoji)"
      ]
    },
    {
      "cell_type": "raw",
      "id": "6a01fc5d",
      "metadata": {
        "id": "6a01fc5d"
      },
      "source": [
        "The \"emoji\" here are the mini logo beside the name of some manifacturies so we leave them as it is ."
      ]
    },
    {
      "cell_type": "code",
      "source": [
        "!pip install --upgrade scikit-learn"
      ],
      "metadata": {
        "colab": {
          "base_uri": "https://localhost:8080/"
        },
        "id": "kxxNPSKH78Yx",
        "outputId": "d4b84ed7-3075-458e-8520-8e45eae1ba90"
      },
      "id": "kxxNPSKH78Yx",
      "execution_count": null,
      "outputs": [
        {
          "output_type": "stream",
          "name": "stdout",
          "text": [
            "Looking in indexes: https://pypi.org/simple, https://us-python.pkg.dev/colab-wheels/public/simple/\n",
            "Requirement already satisfied: scikit-learn in /usr/local/lib/python3.10/dist-packages (1.2.2)\n",
            "Requirement already satisfied: numpy>=1.17.3 in /usr/local/lib/python3.10/dist-packages (from scikit-learn) (1.22.4)\n",
            "Requirement already satisfied: scipy>=1.3.2 in /usr/local/lib/python3.10/dist-packages (from scikit-learn) (1.10.1)\n",
            "Requirement already satisfied: joblib>=1.1.1 in /usr/local/lib/python3.10/dist-packages (from scikit-learn) (1.2.0)\n",
            "Requirement already satisfied: threadpoolctl>=2.0.0 in /usr/local/lib/python3.10/dist-packages (from scikit-learn) (3.1.0)\n"
          ]
        }
      ]
    },
    {
      "cell_type": "code",
      "source": [
        "# Separate the text and score columns\n",
        "text = df['Text']\n",
        "score = df['Score']\n",
        "\n",
        "# Define the range of n-grams\n",
        "# Define the range of n-grams you want to consider\n",
        "ngram_range = (2, 3)  # Consider bi-grams and tri-grams\n",
        "\n",
        "# Create CountVectorizer with n-gram range and exclude stopwords\n",
        "vectorizer = CountVectorizer(ngram_range=ngram_range, stop_words='english', min_df=1)\n",
        "\n",
        "# Fit the vectorizer on the text data\n",
        "X = vectorizer.fit_transform(text)\n",
        "\n",
        "# Get the n-gram features\n",
        "ngram_features = vectorizer.get_feature_names_out()\n",
        "\n",
        "# Calculate the n-gram frequencies\n",
        "ngram_counts = X.sum(axis=0)\n",
        "\n",
        "# Create a DataFrame to store the n-gram frequencies\n",
        "ngram_df = pd.DataFrame(ngram_counts, columns=ngram_features)\n",
        "ngram_df = ngram_df.transpose()\n",
        "ngram_df.columns = ['Frequency']\n",
        "\n",
        "# Sort the n-grams by frequency in descending order\n",
        "ngram_df = ngram_df.sort_values('Frequency', ascending=False)\n",
        "\n",
        "# Print the top n-grams and their frequencies\n",
        "num_top_ngrams = 10  # Number of top n-grams to display\n",
        "print(ngram_df.head(num_top_ngrams))"
      ],
      "metadata": {
        "id": "6JOSdKgw8tB3",
        "colab": {
          "base_uri": "https://localhost:8080/"
        },
        "outputId": "05cf411a-1e4d-4fe6-ac02-4befe2a841c8"
      },
      "id": "6JOSdKgw8tB3",
      "execution_count": null,
      "outputs": [
        {
          "output_type": "stream",
          "name": "stdout",
          "text": [
            "                  Frequency\n",
            "gluten free             780\n",
            "ve tried                531\n",
            "highly recommend        483\n",
            "cup coffee              475\n",
            "taste like              459\n",
            "grocery store           420\n",
            "just right              344\n",
            "peanut butter           338\n",
            "tastes like             338\n",
            "really good             324\n"
          ]
        }
      ]
    },
    {
      "cell_type": "markdown",
      "source": [
        "Those are the most  frequented bi-gram, and we see we have few positive sentence.\n",
        "\n",
        "\n",
        "\n"
      ],
      "metadata": {
        "id": "8JNo7f8-AN_g"
      },
      "id": "8JNo7f8-AN_g"
    },
    {
      "cell_type": "markdown",
      "id": "e44eb6a4",
      "metadata": {
        "id": "e44eb6a4"
      },
      "source": [
        "# VADER Sentiment Scores"
      ]
    },
    {
      "cell_type": "code",
      "execution_count": null,
      "id": "1c2a7c81",
      "metadata": {
        "id": "1c2a7c81"
      },
      "outputs": [],
      "source": [
        "from nltk.sentiment import SentimentIntensityAnalyzer\n",
        "from tqdm.notebook import tqdm"
      ]
    },
    {
      "cell_type": "markdown",
      "source": [
        "I didn't touch punctuations and case for now as VADER SENTIMENT ANALYSIS SCORES are affected by factors like punctuations,capitalization,preceeding-trigrams,degree modifiers,conjunctions etc"
      ],
      "metadata": {
        "id": "qJvpjkuXXW2y"
      },
      "id": "qJvpjkuXXW2y"
    },
    {
      "cell_type": "code",
      "execution_count": null,
      "id": "vRMta22yE1X7",
      "metadata": {
        "colab": {
          "base_uri": "https://localhost:8080/"
        },
        "id": "vRMta22yE1X7",
        "outputId": "fd9f1c38-ca20-4c99-dabc-b384cd84fd77"
      },
      "outputs": [
        {
          "output_type": "stream",
          "name": "stderr",
          "text": [
            "[nltk_data] Downloading package vader_lexicon to /root/nltk_data...\n"
          ]
        },
        {
          "output_type": "execute_result",
          "data": {
            "text/plain": [
              "True"
            ]
          },
          "metadata": {},
          "execution_count": 11
        }
      ],
      "source": [
        "nltk.download('vader_lexicon')"
      ]
    },
    {
      "cell_type": "code",
      "execution_count": null,
      "id": "a5bf1f43",
      "metadata": {
        "id": "a5bf1f43"
      },
      "outputs": [],
      "source": [
        "analyser_object=SentimentIntensityAnalyzer()"
      ]
    },
    {
      "cell_type": "code",
      "execution_count": null,
      "id": "425e3d2d",
      "metadata": {
        "id": "425e3d2d"
      },
      "outputs": [],
      "source": [
        "def vader_scores():\n",
        "    dic= {}\n",
        "    for i, row in tqdm(df.iterrows(), total=len(df)):\n",
        "        review=row['Text']\n",
        "        myid=row['Id']\n",
        "        dic[myid]=analyser_object.polarity_scores(review)\n",
        "    return dic"
      ]
    },
    {
      "cell_type": "markdown",
      "source": [
        "Vader retuns 4 values:\n",
        "\n",
        "\n",
        "*   a neutrality score\n",
        "\n",
        "\n",
        "\n",
        "*   a positivity score\n",
        "\n",
        "\n",
        "*   a negativity score\n",
        "*   an overall score that summarizes the previous scores\n",
        "\n",
        "\n",
        "\n"
      ],
      "metadata": {
        "id": "u0HaJEUVZ0mq"
      },
      "id": "u0HaJEUVZ0mq"
    },
    {
      "cell_type": "code",
      "execution_count": 2,
      "id": "0dc8626d",
      "metadata": {
        "id": "0dc8626d"
      },
      "outputs": [],
      "source": [
        "#vader_scores()"
      ]
    },
    {
      "cell_type": "code",
      "execution_count": null,
      "id": "90dd473d",
      "metadata": {
        "colab": {
          "base_uri": "https://localhost:8080/",
          "height": 53
        },
        "id": "90dd473d",
        "outputId": "35cd6af5-e9bd-4fcc-9b6d-aa5dff294256"
      },
      "outputs": [
        {
          "name": "stdout",
          "output_type": "stream",
          "text": [
            "Product arrived labeled as Jumbo Salted Peanuts...the peanuts were actually small sized unsalted. Not sure if this was an error or if the vendor intended to represent the product as \"Jumbo\".    Vader score :  {'neg': 0.138, 'neu': 0.862, 'pos': 0.0, 'compound': -0.5664}\n"
          ]
        }
      ],
      "source": [
        "#See on an example\n",
        "print(df.Text[1],\"   Vader score : \",analyser_object.polarity_scores(df.Text[1]))"
      ]
    },
    {
      "cell_type": "markdown",
      "source": [
        "If compound is superior to 0.05 its a positive review in general and if its inferior to -0.05 its negative in general ."
      ],
      "metadata": {
        "id": "VSQOMvUFXzsb"
      },
      "id": "VSQOMvUFXzsb"
    },
    {
      "cell_type": "code",
      "execution_count": null,
      "id": "74dc3203",
      "metadata": {
        "colab": {
          "base_uri": "https://localhost:8080/",
          "height": 49,
          "referenced_widgets": [
            "45b907c9cb694e71af99af5cd57a4719",
            "d0722dcc989549868167d91b1c10eac8",
            "73398898117b434e9b3d7765fab45ce6",
            "2d102091b92c4f0fa506c19821ba8e9c",
            "56c5747e3b5843cc9d3ff9d399736f28",
            "8bc65f1d2275469c90faf05517600b85",
            "3bccb780e47a4e54b085996ae398c916",
            "2c61e876878f42aab103d93d01c3648b",
            "3f16bf364ba74055a1b3759005443e3d",
            "da9fc0a9878f4fe991c70a4afcdcf6dd",
            "aac3707bd31746da9f328917ce1fff9d"
          ]
        },
        "id": "74dc3203",
        "outputId": "fa5f3126-8483-4bee-cea1-781066f3cb43"
      },
      "outputs": [
        {
          "output_type": "display_data",
          "data": {
            "text/plain": [
              "  0%|          | 0/18000 [00:00<?, ?it/s]"
            ],
            "application/vnd.jupyter.widget-view+json": {
              "version_major": 2,
              "version_minor": 0,
              "model_id": "45b907c9cb694e71af99af5cd57a4719"
            }
          },
          "metadata": {}
        }
      ],
      "source": [
        "vaders_df=pd.DataFrame(vader_scores()).T\n",
        "vaders_df=vaders_df.reset_index().rename(columns={'index': 'Id'})\n",
        "vaders_df=vaders_df.merge(df,how='left')"
      ]
    },
    {
      "cell_type": "code",
      "execution_count": null,
      "id": "4c23e380",
      "metadata": {
        "colab": {
          "base_uri": "https://localhost:8080/",
          "height": 423
        },
        "id": "4c23e380",
        "outputId": "3145a467-9219-4047-851c-629af94c4c0b"
      },
      "outputs": [
        {
          "output_type": "execute_result",
          "data": {
            "text/plain": [
              "          Id    neg    neu    pos  compound  Score  \\\n",
              "0          1  0.000  0.695  0.305    0.9441      5   \n",
              "1          2  0.138  0.862  0.000   -0.5664      1   \n",
              "2          3  0.091  0.754  0.155    0.8265      4   \n",
              "3          4  0.000  1.000  0.000    0.0000      2   \n",
              "4          5  0.000  0.552  0.448    0.9468      5   \n",
              "...      ...    ...    ...    ...       ...    ...   \n",
              "17995  17996  0.000  0.847  0.153    0.7145      4   \n",
              "17996  17997  0.061  0.847  0.092    0.6757      3   \n",
              "17997  17998  0.000  0.850  0.150    0.9085      5   \n",
              "17998  17999  0.000  0.680  0.320    0.9899      5   \n",
              "17999  18000  0.000  0.814  0.186    0.9746      5   \n",
              "\n",
              "                                        Summary  \\\n",
              "0                         Good Quality Dog Food   \n",
              "1                             Not as Advertised   \n",
              "2                         \"Delight\" says it all   \n",
              "3                                Cough Medicine   \n",
              "4                                   Great taffy   \n",
              "...                                         ...   \n",
              "17995        peanut butter without all the fat?   \n",
              "17996                  Good..but price is AWFUL   \n",
              "17997  Great stuff but much cheaper @ netrition   \n",
              "17998                 a healthier peanut butter   \n",
              "17999                                       PB2   \n",
              "\n",
              "                                                    Text  \n",
              "0      I have bought several of the Vitality canned d...  \n",
              "1      Product arrived labeled as Jumbo Salted Peanut...  \n",
              "2      This is a confection that has been around a fe...  \n",
              "3      If you are looking for the secret ingredient i...  \n",
              "4      Great taffy at a great price.  There was a wid...  \n",
              "...                                                  ...  \n",
              "17995  I don't think this tastes more than OK when yo...  \n",
              "17996  It's a relatively smaller jar that you get..ab...  \n",
              "17997  I love this peanut butter. It has 25% of the c...  \n",
              "17998  I have been using Bell Plantation for 3 years ...  \n",
              "17999  I love this product.  If you love PB but never...  \n",
              "\n",
              "[18000 rows x 8 columns]"
            ],
            "text/html": [
              "\n",
              "  <div id=\"df-0cff2ba9-8ce8-4152-b15b-586188b6c52c\">\n",
              "    <div class=\"colab-df-container\">\n",
              "      <div>\n",
              "<style scoped>\n",
              "    .dataframe tbody tr th:only-of-type {\n",
              "        vertical-align: middle;\n",
              "    }\n",
              "\n",
              "    .dataframe tbody tr th {\n",
              "        vertical-align: top;\n",
              "    }\n",
              "\n",
              "    .dataframe thead th {\n",
              "        text-align: right;\n",
              "    }\n",
              "</style>\n",
              "<table border=\"1\" class=\"dataframe\">\n",
              "  <thead>\n",
              "    <tr style=\"text-align: right;\">\n",
              "      <th></th>\n",
              "      <th>Id</th>\n",
              "      <th>neg</th>\n",
              "      <th>neu</th>\n",
              "      <th>pos</th>\n",
              "      <th>compound</th>\n",
              "      <th>Score</th>\n",
              "      <th>Summary</th>\n",
              "      <th>Text</th>\n",
              "    </tr>\n",
              "  </thead>\n",
              "  <tbody>\n",
              "    <tr>\n",
              "      <th>0</th>\n",
              "      <td>1</td>\n",
              "      <td>0.000</td>\n",
              "      <td>0.695</td>\n",
              "      <td>0.305</td>\n",
              "      <td>0.9441</td>\n",
              "      <td>5</td>\n",
              "      <td>Good Quality Dog Food</td>\n",
              "      <td>I have bought several of the Vitality canned d...</td>\n",
              "    </tr>\n",
              "    <tr>\n",
              "      <th>1</th>\n",
              "      <td>2</td>\n",
              "      <td>0.138</td>\n",
              "      <td>0.862</td>\n",
              "      <td>0.000</td>\n",
              "      <td>-0.5664</td>\n",
              "      <td>1</td>\n",
              "      <td>Not as Advertised</td>\n",
              "      <td>Product arrived labeled as Jumbo Salted Peanut...</td>\n",
              "    </tr>\n",
              "    <tr>\n",
              "      <th>2</th>\n",
              "      <td>3</td>\n",
              "      <td>0.091</td>\n",
              "      <td>0.754</td>\n",
              "      <td>0.155</td>\n",
              "      <td>0.8265</td>\n",
              "      <td>4</td>\n",
              "      <td>\"Delight\" says it all</td>\n",
              "      <td>This is a confection that has been around a fe...</td>\n",
              "    </tr>\n",
              "    <tr>\n",
              "      <th>3</th>\n",
              "      <td>4</td>\n",
              "      <td>0.000</td>\n",
              "      <td>1.000</td>\n",
              "      <td>0.000</td>\n",
              "      <td>0.0000</td>\n",
              "      <td>2</td>\n",
              "      <td>Cough Medicine</td>\n",
              "      <td>If you are looking for the secret ingredient i...</td>\n",
              "    </tr>\n",
              "    <tr>\n",
              "      <th>4</th>\n",
              "      <td>5</td>\n",
              "      <td>0.000</td>\n",
              "      <td>0.552</td>\n",
              "      <td>0.448</td>\n",
              "      <td>0.9468</td>\n",
              "      <td>5</td>\n",
              "      <td>Great taffy</td>\n",
              "      <td>Great taffy at a great price.  There was a wid...</td>\n",
              "    </tr>\n",
              "    <tr>\n",
              "      <th>...</th>\n",
              "      <td>...</td>\n",
              "      <td>...</td>\n",
              "      <td>...</td>\n",
              "      <td>...</td>\n",
              "      <td>...</td>\n",
              "      <td>...</td>\n",
              "      <td>...</td>\n",
              "      <td>...</td>\n",
              "    </tr>\n",
              "    <tr>\n",
              "      <th>17995</th>\n",
              "      <td>17996</td>\n",
              "      <td>0.000</td>\n",
              "      <td>0.847</td>\n",
              "      <td>0.153</td>\n",
              "      <td>0.7145</td>\n",
              "      <td>4</td>\n",
              "      <td>peanut butter without all the fat?</td>\n",
              "      <td>I don't think this tastes more than OK when yo...</td>\n",
              "    </tr>\n",
              "    <tr>\n",
              "      <th>17996</th>\n",
              "      <td>17997</td>\n",
              "      <td>0.061</td>\n",
              "      <td>0.847</td>\n",
              "      <td>0.092</td>\n",
              "      <td>0.6757</td>\n",
              "      <td>3</td>\n",
              "      <td>Good..but price is AWFUL</td>\n",
              "      <td>It's a relatively smaller jar that you get..ab...</td>\n",
              "    </tr>\n",
              "    <tr>\n",
              "      <th>17997</th>\n",
              "      <td>17998</td>\n",
              "      <td>0.000</td>\n",
              "      <td>0.850</td>\n",
              "      <td>0.150</td>\n",
              "      <td>0.9085</td>\n",
              "      <td>5</td>\n",
              "      <td>Great stuff but much cheaper @ netrition</td>\n",
              "      <td>I love this peanut butter. It has 25% of the c...</td>\n",
              "    </tr>\n",
              "    <tr>\n",
              "      <th>17998</th>\n",
              "      <td>17999</td>\n",
              "      <td>0.000</td>\n",
              "      <td>0.680</td>\n",
              "      <td>0.320</td>\n",
              "      <td>0.9899</td>\n",
              "      <td>5</td>\n",
              "      <td>a healthier peanut butter</td>\n",
              "      <td>I have been using Bell Plantation for 3 years ...</td>\n",
              "    </tr>\n",
              "    <tr>\n",
              "      <th>17999</th>\n",
              "      <td>18000</td>\n",
              "      <td>0.000</td>\n",
              "      <td>0.814</td>\n",
              "      <td>0.186</td>\n",
              "      <td>0.9746</td>\n",
              "      <td>5</td>\n",
              "      <td>PB2</td>\n",
              "      <td>I love this product.  If you love PB but never...</td>\n",
              "    </tr>\n",
              "  </tbody>\n",
              "</table>\n",
              "<p>18000 rows × 8 columns</p>\n",
              "</div>\n",
              "      <button class=\"colab-df-convert\" onclick=\"convertToInteractive('df-0cff2ba9-8ce8-4152-b15b-586188b6c52c')\"\n",
              "              title=\"Convert this dataframe to an interactive table.\"\n",
              "              style=\"display:none;\">\n",
              "        \n",
              "  <svg xmlns=\"http://www.w3.org/2000/svg\" height=\"24px\"viewBox=\"0 0 24 24\"\n",
              "       width=\"24px\">\n",
              "    <path d=\"M0 0h24v24H0V0z\" fill=\"none\"/>\n",
              "    <path d=\"M18.56 5.44l.94 2.06.94-2.06 2.06-.94-2.06-.94-.94-2.06-.94 2.06-2.06.94zm-11 1L8.5 8.5l.94-2.06 2.06-.94-2.06-.94L8.5 2.5l-.94 2.06-2.06.94zm10 10l.94 2.06.94-2.06 2.06-.94-2.06-.94-.94-2.06-.94 2.06-2.06.94z\"/><path d=\"M17.41 7.96l-1.37-1.37c-.4-.4-.92-.59-1.43-.59-.52 0-1.04.2-1.43.59L10.3 9.45l-7.72 7.72c-.78.78-.78 2.05 0 2.83L4 21.41c.39.39.9.59 1.41.59.51 0 1.02-.2 1.41-.59l7.78-7.78 2.81-2.81c.8-.78.8-2.07 0-2.86zM5.41 20L4 18.59l7.72-7.72 1.47 1.35L5.41 20z\"/>\n",
              "  </svg>\n",
              "      </button>\n",
              "      \n",
              "  <style>\n",
              "    .colab-df-container {\n",
              "      display:flex;\n",
              "      flex-wrap:wrap;\n",
              "      gap: 12px;\n",
              "    }\n",
              "\n",
              "    .colab-df-convert {\n",
              "      background-color: #E8F0FE;\n",
              "      border: none;\n",
              "      border-radius: 50%;\n",
              "      cursor: pointer;\n",
              "      display: none;\n",
              "      fill: #1967D2;\n",
              "      height: 32px;\n",
              "      padding: 0 0 0 0;\n",
              "      width: 32px;\n",
              "    }\n",
              "\n",
              "    .colab-df-convert:hover {\n",
              "      background-color: #E2EBFA;\n",
              "      box-shadow: 0px 1px 2px rgba(60, 64, 67, 0.3), 0px 1px 3px 1px rgba(60, 64, 67, 0.15);\n",
              "      fill: #174EA6;\n",
              "    }\n",
              "\n",
              "    [theme=dark] .colab-df-convert {\n",
              "      background-color: #3B4455;\n",
              "      fill: #D2E3FC;\n",
              "    }\n",
              "\n",
              "    [theme=dark] .colab-df-convert:hover {\n",
              "      background-color: #434B5C;\n",
              "      box-shadow: 0px 1px 3px 1px rgba(0, 0, 0, 0.15);\n",
              "      filter: drop-shadow(0px 1px 2px rgba(0, 0, 0, 0.3));\n",
              "      fill: #FFFFFF;\n",
              "    }\n",
              "  </style>\n",
              "\n",
              "      <script>\n",
              "        const buttonEl =\n",
              "          document.querySelector('#df-0cff2ba9-8ce8-4152-b15b-586188b6c52c button.colab-df-convert');\n",
              "        buttonEl.style.display =\n",
              "          google.colab.kernel.accessAllowed ? 'block' : 'none';\n",
              "\n",
              "        async function convertToInteractive(key) {\n",
              "          const element = document.querySelector('#df-0cff2ba9-8ce8-4152-b15b-586188b6c52c');\n",
              "          const dataTable =\n",
              "            await google.colab.kernel.invokeFunction('convertToInteractive',\n",
              "                                                     [key], {});\n",
              "          if (!dataTable) return;\n",
              "\n",
              "          const docLinkHtml = 'Like what you see? Visit the ' +\n",
              "            '<a target=\"_blank\" href=https://colab.research.google.com/notebooks/data_table.ipynb>data table notebook</a>'\n",
              "            + ' to learn more about interactive tables.';\n",
              "          element.innerHTML = '';\n",
              "          dataTable['output_type'] = 'display_data';\n",
              "          await google.colab.output.renderOutput(dataTable, element);\n",
              "          const docLink = document.createElement('div');\n",
              "          docLink.innerHTML = docLinkHtml;\n",
              "          element.appendChild(docLink);\n",
              "        }\n",
              "      </script>\n",
              "    </div>\n",
              "  </div>\n",
              "  "
            ]
          },
          "metadata": {},
          "execution_count": 16
        }
      ],
      "source": [
        "vaders_df"
      ]
    },
    {
      "cell_type": "code",
      "execution_count": null,
      "id": "7931cc72",
      "metadata": {
        "colab": {
          "base_uri": "https://localhost:8080/",
          "height": 308
        },
        "id": "7931cc72",
        "outputId": "26cc5d40-fe33-4959-bfcf-09e519fbeb14"
      },
      "outputs": [
        {
          "output_type": "display_data",
          "data": {
            "text/plain": [
              "<Figure size 1500x400 with 4 Axes>"
            ],
            "image/png": "[encoded data removed]"
          },
          "metadata": {}
        }
      ],
      "source": [
        "#Plot for vader sentiment\n",
        "fig, axs = plt.subplots(1, 4, figsize=(15, 4))\n",
        "sns.barplot(data=vaders_df, x='Score', y='pos', ax=axs[0])\n",
        "sns.barplot(data=vaders_df, x='Score', y='neu', ax=axs[1])\n",
        "sns.barplot(data=vaders_df, x='Score', y='neg', ax=axs[2])\n",
        "sns.barplot(data=vaders_df,x='Score',y='compound',ax=axs[3])\n",
        "axs[0].set_title('Positive')\n",
        "axs[1].set_title('Neutral')\n",
        "axs[2].set_title('Negative')\n",
        "axs[3].set_title('Compound')\n",
        "plt.tight_layout()\n",
        "plt.show()"
      ]
    },
    {
      "cell_type": "code",
      "source": [
        "# Calculate the sentiment distribution\n",
        "sentiment_distribution = vaders_df['compound'].value_counts()\n",
        "plt.bar(sentiment_distribution.index, sentiment_distribution.values)\n",
        "plt.xlabel('Sentiment Score')\n",
        "plt.ylabel('Count')\n",
        "plt.title('Sentiment Distribution')\n",
        "plt.show()"
      ],
      "metadata": {
        "colab": {
          "base_uri": "https://localhost:8080/",
          "height": 472
        },
        "id": "7PhJkd4ZmXxg",
        "outputId": "c5602c95-ff4f-484d-ad95-87eb141619d7"
      },
      "id": "7PhJkd4ZmXxg",
      "execution_count": null,
      "outputs": [
        {
          "output_type": "display_data",
          "data": {
            "text/plain": [
              "<Figure size 640x480 with 1 Axes>"
            ],
            "image/png": "[encoded data removed]"
          },
          "metadata": {}
        }
      ]
    },
    {
      "cell_type": "markdown",
      "source": [
        "We can observe that most of the reviews tend to be neutral or being positive ( here we dont know the degree of the positivity)"
      ],
      "metadata": {
        "id": "S4z0VjmCq-rL"
      },
      "id": "S4z0VjmCq-rL"
    },
    {
      "cell_type": "code",
      "source": [
        "# 2.5 Check the correlation between sentiment score (compound) and rating\n",
        "import numpy as np\n",
        "import scipy.stats as stats\n",
        "print(\"The correlation coefficient between sentiment score (compound) and rating is {0[0]: .4f} with a p-value of {0[1]: .4f}.\".format(stats.pearsonr(vaders_df['Score'], vaders_df[\"compound\"])))\n",
        "vaders_df.groupby(\"Score\").mean()[\"compound\"].plot(kind=\"bar\", figsize=(10, 6))\n",
        "plt.title(\"Avg. Sentiment Score (Compound) per Rating\")\n",
        "plt.show()"
      ],
      "metadata": {
        "colab": {
          "base_uri": "https://localhost:8080/",
          "height": 631
        },
        "id": "sPwAwWELV0CA",
        "outputId": "f376c99c-e6ba-425e-88f7-c56087d54615"
      },
      "id": "sPwAwWELV0CA",
      "execution_count": null,
      "outputs": [
        {
          "output_type": "stream",
          "name": "stdout",
          "text": [
            "The correlation coefficient between sentiment score (compound) and rating is  0.4936 with a p-value of  0.0000.\n"
          ]
        },
        {
          "output_type": "stream",
          "name": "stderr",
          "text": [
            "<ipython-input-18-e4799bc9c186>:5: FutureWarning: The default value of numeric_only in DataFrameGroupBy.mean is deprecated. In a future version, numeric_only will default to False. Either specify numeric_only or select only columns which should be valid for the function.\n",
            "  vaders_df.groupby(\"Score\").mean()[\"compound\"].plot(kind=\"bar\", figsize=(10, 6))\n"
          ]
        },
        {
          "output_type": "display_data",
          "data": {
            "text/plain": [
              "<Figure size 1000x600 with 1 Axes>"
            ],
            "image/png": "[encoded data removed]"
          },
          "metadata": {}
        }
      ]
    },
    {
      "cell_type": "markdown",
      "source": [
        " There is a moderate positive correlation between the sentiment score and the rating. Higher sentiment scores tend to be associated with higher ratings, and this relationship is statistically significant.The VADER model proves to be a good powerful tool for sentiment classification.But with pretrained model we will have more accurate classification."
      ],
      "metadata": {
        "id": "lNWWiHj9d_0r"
      },
      "id": "lNWWiHj9d_0r"
    },
    {
      "cell_type": "markdown",
      "id": "4WoZ6Bw8Jkzu",
      "metadata": {
        "id": "4WoZ6Bw8Jkzu"
      },
      "source": [
        "\n",
        "\n",
        "---\n",
        "\n",
        "# **Le modele DistilBert**\n",
        "\n",
        "---\n",
        "\n"
      ]
    },
    {
      "cell_type": "code",
      "execution_count": 3,
      "id": "Tx4XsGfhTptc",
      "metadata": {
        "id": "Tx4XsGfhTptc"
      },
      "outputs": [],
      "source": [
        "#!pip install transformers"
      ]
    },
    {
      "cell_type": "code",
      "execution_count": null,
      "id": "qL4g1Tz_U-nT",
      "metadata": {
        "id": "qL4g1Tz_U-nT"
      },
      "outputs": [],
      "source": [
        "import pandas as pd\n",
        "import torch\n",
        "import torch.nn as nn\n",
        "from torch.optim.lr_scheduler import ReduceLROnPlateau\n",
        "from sklearn.model_selection import train_test_split\n",
        "from transformers import DistilBertTokenizerFast, DistilBertForSequenceClassification, AdamW\n",
        "from torch.utils.data import TensorDataset, DataLoader\n",
        "from tqdm import tqdm\n",
        "from imblearn.over_sampling import RandomOverSampler\n",
        "from nltk.corpus import stopwords\n",
        "import pickle\n",
        "from sklearn.metrics import accuracy_score, precision_score, recall_score, f1_score,confusion_matrix, classification_report"
      ]
    },
    {
      "cell_type": "code",
      "execution_count": null,
      "id": "YwF2qGakO_rh",
      "metadata": {
        "id": "YwF2qGakO_rh"
      },
      "outputs": [],
      "source": [
        "#torch.cuda.empty_cache()"
      ]
    },
    {
      "cell_type": "code",
      "execution_count": null,
      "id": "FZhuJGB1V3J4",
      "metadata": {
        "colab": {
          "base_uri": "https://localhost:8080/"
        },
        "id": "FZhuJGB1V3J4",
        "outputId": "0b885184-e0d7-4abe-d95f-e151a014b38e"
      },
      "outputs": [
        {
          "output_type": "stream",
          "name": "stderr",
          "text": [
            "[nltk_data] Downloading package stopwords to /root/nltk_data...\n",
            "[nltk_data]   Unzipping corpora/stopwords.zip.\n"
          ]
        },
        {
          "output_type": "execute_result",
          "data": {
            "text/plain": [
              "True"
            ]
          },
          "metadata": {},
          "execution_count": 11
        }
      ],
      "source": [
        "nltk.download('stopwords')"
      ]
    },
    {
      "cell_type": "markdown",
      "id": "ca65549d",
      "metadata": {
        "id": "ca65549d"
      },
      "source": [
        "### splitting ,dataset,dataloader tensors"
      ]
    },
    {
      "cell_type": "code",
      "execution_count": null,
      "id": "IhFB9NNAVnJn",
      "metadata": {
        "id": "IhFB9NNAVnJn"
      },
      "outputs": [],
      "source": [
        "X= df['Text']\n",
        "y=df['Score']\n",
        "# Split the dataset into train, validation, and test sets\n",
        "train_data, test_data = train_test_split(df, test_size=0.2, random_state=42)\n",
        "train_data, val_data = train_test_split(train_data, test_size=0.2, random_state=42)\n",
        "\n",
        "X_train = train_data['Text'].values\n",
        "y_train = train_data['Score'].values\n",
        "\n",
        "X_val = val_data['Text'].values\n",
        "y_val = val_data['Score'].values\n",
        "\n",
        "X_test = test_data['Text'].values\n",
        "y_test = test_data['Score'].values"
      ]
    },
    {
      "cell_type": "code",
      "execution_count": null,
      "id": "FaapdQGMi5gj",
      "metadata": {
        "colab": {
          "base_uri": "https://localhost:8080/"
        },
        "id": "FaapdQGMi5gj",
        "outputId": "2b7cc85e-56e2-4647-ca15-5071bc970c68"
      },
      "outputs": [
        {
          "output_type": "execute_result",
          "data": {
            "text/plain": [
              "5    7294\n",
              "4    1626\n",
              "1    1022\n",
              "3     955\n",
              "2     623\n",
              "dtype: int64"
            ]
          },
          "metadata": {},
          "execution_count": 13
        }
      ],
      "source": [
        "pd.DataFrame(y_train).value_counts()"
      ]
    },
    {
      "cell_type": "code",
      "execution_count": null,
      "id": "RwIII8brVv9B",
      "metadata": {
        "colab": {
          "base_uri": "https://localhost:8080/",
          "height": 284,
          "referenced_widgets": [
            "f99b1a342306484dbd6112ba4e2db8a7",
            "a840978ce01c4df4a24f77e16669e822",
            "fb9c94235ddd40068f7abbf26751e998",
            "db518b9365434627a9c4d9b73f2be02f",
            "84b58a57310945dcb761646e33b38c09",
            "99fdf3a60ae94c52a24905bfe50a7526",
            "6cd67586535d4a4d86d142281c6aa457",
            "b071548c561c436c85cec28ab09e7ef3",
            "6ffc4425814145c09dc5404f3c634317",
            "bac8b2d0a26c4d4fa65aebabeb346357",
            "c1e1a98698b1499c93ed21e8d6327644",
            "7498832b18074dc58b669842636f0a0b",
            "483372857bc6415fb6aa8bcfe73a6aa9",
            "391273d7289f4d449a6aec8a8e3561e6",
            "7a6b45c80667463ea29d8f039be13428",
            "1284009e9dae456aaae4ccbc80ddab7a",
            "bfa72dbaa51b4d4eb3fb487f390df81f",
            "aa622798a03d4afeb5738d827e943244",
            "c35d0bbd8a2140418faa784041eaa219",
            "e99f1fc1d7944e9cbc9895fc81dad445",
            "e3e0c3ba9447406dbf89dcde4aeb68c9",
            "828ae2616c154565a8577dcd1e24d901",
            "b81ad7b35a0c4eff9e9f2dac78dcdcd6",
            "4227b03930544b46b8c75b8bdd9ce3d7",
            "91b5457d6995436d9d55a3382ce3784a",
            "5177895efe0240849a8cf1ea4973d8b8",
            "d26384a7be8b467dac677bfa3b405125",
            "2291e3a69d1e4f548138140f9a0eae67",
            "23e2cbd6ad784000a3c10821fc738372",
            "871bd8c6f6c8462d90120933b044db2f",
            "b25e93c074eb4838a4f7922a7b9c3520",
            "3f1a4caad584443f90474ee01de5e827",
            "b4a8911e811e4bceb69624b9aead65b9",
            "4538cecefdb04d63a34f32bafc525197",
            "d402d469898347d09e40ea78594b35dd",
            "fda2e25158bf408aa9c913379606f2d0",
            "b441e1a59cdb4cd697978833429c4b5d",
            "cc94e823832f43e8ba469eaa15f709a1",
            "37cc86cc82174f63b1b5a1e40b5e179f",
            "deb0552e63d84dea8fa0997572bc9847",
            "5aeff6e078cc4997bc7a165f6601f09c",
            "df2170b286af4e069c0dfab8584da812",
            "586937bf93aa4336b55244f7319d1658",
            "2e3fed41e8cf49b1a81607512ba1f208",
            "2a8cb914210541a08edee855b788e62e",
            "9b6f87be1622407a802f30c85c665d62",
            "4425a92624884284a92550a32ac9762e",
            "eb19510960e0467297106e7732c0e2bd",
            "4e6bcf1329dd4d86be06756066a43beb",
            "5bf332524ce8422ab48e94985d45e31f",
            "038e89e9c5404cfdb7b4d45d1bcb0eec",
            "3c5b7abe68734874918f6330c69572d1",
            "6a42bdc4f092496fa270a92fa0f7399b",
            "c633c69a43ad4fdba80fab14c8bd7782",
            "166c2756f63f4958a7434411f37b4ff3"
          ]
        },
        "id": "RwIII8brVv9B",
        "outputId": "9a157c18-3aae-4e57-e3c0-d9df2533db16"
      },
      "outputs": [
        {
          "output_type": "display_data",
          "data": {
            "text/plain": [
              "Downloading (…)okenizer_config.json:   0%|          | 0.00/28.0 [00:00<?, ?B/s]"
            ],
            "application/vnd.jupyter.widget-view+json": {
              "version_major": 2,
              "version_minor": 0,
              "model_id": "f99b1a342306484dbd6112ba4e2db8a7"
            }
          },
          "metadata": {}
        },
        {
          "output_type": "display_data",
          "data": {
            "text/plain": [
              "Downloading (…)solve/main/vocab.txt:   0%|          | 0.00/232k [00:00<?, ?B/s]"
            ],
            "application/vnd.jupyter.widget-view+json": {
              "version_major": 2,
              "version_minor": 0,
              "model_id": "7498832b18074dc58b669842636f0a0b"
            }
          },
          "metadata": {}
        },
        {
          "output_type": "display_data",
          "data": {
            "text/plain": [
              "Downloading (…)/main/tokenizer.json:   0%|          | 0.00/466k [00:00<?, ?B/s]"
            ],
            "application/vnd.jupyter.widget-view+json": {
              "version_major": 2,
              "version_minor": 0,
              "model_id": "b81ad7b35a0c4eff9e9f2dac78dcdcd6"
            }
          },
          "metadata": {}
        },
        {
          "output_type": "display_data",
          "data": {
            "text/plain": [
              "Downloading (…)lve/main/config.json:   0%|          | 0.00/483 [00:00<?, ?B/s]"
            ],
            "application/vnd.jupyter.widget-view+json": {
              "version_major": 2,
              "version_minor": 0,
              "model_id": "4538cecefdb04d63a34f32bafc525197"
            }
          },
          "metadata": {}
        },
        {
          "output_type": "display_data",
          "data": {
            "text/plain": [
              "Downloading model.safetensors:   0%|          | 0.00/268M [00:00<?, ?B/s]"
            ],
            "application/vnd.jupyter.widget-view+json": {
              "version_major": 2,
              "version_minor": 0,
              "model_id": "2a8cb914210541a08edee855b788e62e"
            }
          },
          "metadata": {}
        },
        {
          "output_type": "stream",
          "name": "stderr",
          "text": [
            "Some weights of the model checkpoint at distilbert-base-uncased were not used when initializing DistilBertForSequenceClassification: ['vocab_layer_norm.bias', 'vocab_transform.weight', 'vocab_layer_norm.weight', 'vocab_projector.bias', 'vocab_transform.bias']\n",
            "- This IS expected if you are initializing DistilBertForSequenceClassification from the checkpoint of a model trained on another task or with another architecture (e.g. initializing a BertForSequenceClassification model from a BertForPreTraining model).\n",
            "- This IS NOT expected if you are initializing DistilBertForSequenceClassification from the checkpoint of a model that you expect to be exactly identical (initializing a BertForSequenceClassification model from a BertForSequenceClassification model).\n",
            "Some weights of DistilBertForSequenceClassification were not initialized from the model checkpoint at distilbert-base-uncased and are newly initialized: ['classifier.weight', 'classifier.bias', 'pre_classifier.bias', 'pre_classifier.weight']\n",
            "You should probably TRAIN this model on a down-stream task to be able to use it for predictions and inference.\n"
          ]
        }
      ],
      "source": [
        "# Initialize the tokenizer and DistilBERT\n",
        "stop_words = set(stopwords.words('english'))\n",
        "num_classes = len(df['Score'].unique())\n",
        "tokenizer = DistilBertTokenizerFast.from_pretrained('distilbert-base-uncased', do_lower_case=True, stop_words=stop_words)\n",
        "#model architecture\n",
        "model = DistilBertForSequenceClassification.from_pretrained('distilbert-base-uncased', num_labels=num_classes)\n",
        "#print(model)"
      ]
    },
    {
      "cell_type": "code",
      "execution_count": null,
      "id": "cLZBCZJMVyrJ",
      "metadata": {
        "id": "cLZBCZJMVyrJ"
      },
      "outputs": [],
      "source": [
        "# Tokenization\n",
        "train_encodings = tokenizer.batch_encode_plus(X_train.tolist(), padding=True, truncation=True, max_length=512, return_tensors='pt')\n",
        "val_encodings = tokenizer.batch_encode_plus(X_val.tolist(), padding=True, truncation=True, max_length=512, return_tensors='pt')\n",
        "test_encodings = tokenizer.batch_encode_plus(X_test.tolist(), padding=True, truncation=True, max_length=512, return_tensors='pt')"
      ]
    },
    {
      "cell_type": "code",
      "execution_count": null,
      "id": "Xov5Q4cgWGFc",
      "metadata": {
        "id": "Xov5Q4cgWGFc"
      },
      "outputs": [],
      "source": [
        "# Conversion in  pytorch tensors\n",
        "#Dataset\n",
        "#for tensors rating goes from 0 to 4\n",
        "train_dataset = TensorDataset(train_encodings['input_ids'], train_encodings['attention_mask'], torch.tensor(y_train - 1))\n",
        "val_dataset = TensorDataset(val_encodings['input_ids'], val_encodings['attention_mask'], torch.tensor((y_val - 1)))\n",
        "test_dataset = TensorDataset(test_encodings['input_ids'], test_encodings['attention_mask'], torch.tensor((y_test - 1)))"
      ]
    },
    {
      "cell_type": "code",
      "execution_count": null,
      "id": "ZXAKwKISWJNZ",
      "metadata": {
        "id": "ZXAKwKISWJNZ"
      },
      "outputs": [],
      "source": [
        "#Optimization in  mini-batch\n",
        "#Dataloaders\n",
        "batch_size = 16\n",
        "train_loader = DataLoader(train_dataset, batch_size=batch_size, shuffle=True)\n",
        "val_loader = DataLoader(val_dataset, batch_size=batch_size)\n",
        "test_loader = DataLoader(test_dataset, batch_size=batch_size)"
      ]
    },
    {
      "cell_type": "markdown",
      "id": "SH9RGnQ88S51",
      "metadata": {
        "id": "SH9RGnQ88S51"
      },
      "source": [
        "The reason such a few epochs\n",
        "were applied in our model analysis was that we utilized the fine-tuning feature of the model; the model was welltrained, and only a few epochs were necessary for tuning.\n",
        "The number of epochs can be increased, however, it will give rise to overfitting problems as well as take more time for the model to train and with google collab its not fast."
      ]
    },
    {
      "cell_type": "markdown",
      "id": "00fb0a59",
      "metadata": {
        "id": "00fb0a59"
      },
      "source": [
        "### Fine-tuning and optimization of the model"
      ]
    },
    {
      "cell_type": "code",
      "execution_count": null,
      "id": "WvwMCZ1jNOoc",
      "metadata": {
        "colab": {
          "base_uri": "https://localhost:8080/"
        },
        "id": "WvwMCZ1jNOoc",
        "outputId": "871fc211-13b3-4bfe-f803-bd0093a82d2a"
      },
      "outputs": [
        {
          "output_type": "stream",
          "name": "stderr",
          "text": [
            "/usr/local/lib/python3.10/dist-packages/transformers/optimization.py:411: FutureWarning: This implementation of AdamW is deprecated and will be removed in a future version. Use the PyTorch implementation torch.optim.AdamW instead, or set `no_deprecation_warning=True` to disable this warning\n",
            "  warnings.warn(\n",
            "Epochs:   0%|          | 0/2 [00:00<?, ?it/s]"
          ]
        },
        {
          "output_type": "stream",
          "name": "stdout",
          "text": [
            "Epoch 1 - Training F1-score: 0.6974, Accuracy: 0.6974\n",
            "Époque 1 - Perte d'entraînement : 0.8194295319004191\n",
            "Epoch 1 - Validation Loss: 0.7465\n",
            "Accuracy: 0.7219\n",
            "F1-score: 0.7219\n"
          ]
        },
        {
          "output_type": "stream",
          "name": "stderr",
          "text": [
            "\rEpochs:  50%|█████     | 1/2 [09:02<09:02, 542.70s/it]"
          ]
        },
        {
          "output_type": "stream",
          "name": "stdout",
          "text": [
            "Epoch 2 - Training F1-score: 0.7683, Accuracy: 0.7683\n",
            "Époque 2 - Perte d'entraînement : 0.6074371334165335\n",
            "Epoch 2 - Validation Loss: 0.7034\n",
            "Accuracy: 0.7493\n",
            "F1-score: 0.7493\n"
          ]
        },
        {
          "output_type": "stream",
          "name": "stderr",
          "text": [
            "Epochs: 100%|██████████| 2/2 [18:05<00:00, 542.62s/it]\n"
          ]
        }
      ],
      "source": [
        "#regularization with dropout\n",
        "# optimizer and loss function\n",
        "optimizer = AdamW(model.parameters(), lr=2e-5)\n",
        "loss_function = torch.nn.CrossEntropyLoss()\n",
        "\n",
        "#torch.autograd.set_detect_anomaly(True)\n",
        "model.dropout = nn.Dropout(0.5)\n",
        "device = torch.device(\"cuda\" if torch.cuda.is_available() else \"cpu\")\n",
        "model.to(device)\n",
        "\n",
        "# loop\n",
        "train_f1_scores = []\n",
        "train_accuracies = []\n",
        "val_f1_scores = []\n",
        "val_accuracies = []\n",
        "train_losses = []\n",
        "val_losses = []\n",
        "\n",
        "scheduler = ReduceLROnPlateau(optimizer, mode='max', factor=0.1, patience=2, verbose=True)\n",
        "best_val_f1 = 0.0\n",
        "early_stopping_counter = 0\n",
        "\n",
        "\n",
        "for epoch in tqdm(range(2), desc=\"Epochs\"):\n",
        "    model.train()\n",
        "    total_loss = 0\n",
        "    train_predictions = []\n",
        "    train_labels = []\n",
        "\n",
        "    #for batch in tqdm(train_loader, desc=\"Batches\", leave=False):\n",
        "    for batch in train_loader:\n",
        "        input_ids, attention_mask, labels = batch\n",
        "\n",
        "        optimizer.zero_grad()\n",
        "\n",
        "\n",
        "        outputs = model(\n",
        "            input_ids = input_ids.to(device),\n",
        "            attention_mask = attention_mask.to(device),\n",
        "            labels = labels.to(device)\n",
        "        )\n",
        "\n",
        "        # loss function\n",
        "        loss = outputs.loss\n",
        "        total_loss += loss.item()\n",
        "        # backward and update weigh\n",
        "        loss.backward()\n",
        "        optimizer.step()\n",
        "\n",
        "\n",
        "        train_predictions.extend(torch.argmax(outputs.logits, dim=1).tolist())\n",
        "        train_labels.extend(labels.tolist())\n",
        "\n",
        "    # Calculate metrics for the training set\n",
        "\n",
        "    train_f1 = f1_score(train_labels, train_predictions, average='micro')\n",
        "    train_accuracy = accuracy_score(train_labels, train_predictions)\n",
        "    train_f1_scores.append(train_f1)\n",
        "    train_accuracies.append(train_accuracy)\n",
        "    print(f\"Epoch {epoch+1} - Training F1-score: {train_f1:.4f}, Accuracy: {train_accuracy:.4f}\")\n",
        "    avg_loss = total_loss / len(train_loader)\n",
        "    train_losses.append(avg_loss)\n",
        "    print(f\"Époque {epoch+1} - Perte d'entraînement : {avg_loss}\")\n",
        "\n",
        "\n",
        "    model.eval()\n",
        "    with torch.no_grad():\n",
        "      predicted_labels = []\n",
        "      true_labels = []\n",
        "      val_loss = 0\n",
        "\n",
        "      for batch in val_loader:\n",
        "          input_ids, attention_mask, labels = batch\n",
        "          outputs = model(\n",
        "              input_ids = input_ids.to(device),\n",
        "              attention_mask = attention_mask.to(device),\n",
        "              labels=labels.to(device)\n",
        "          )\n",
        "\n",
        "          predicted_labels.extend(torch.argmax(outputs.logits, dim=1).tolist())\n",
        "          true_labels.extend(labels.tolist())\n",
        "          val_loss += outputs.loss.item()\n",
        "\n",
        "      avg_val_loss = val_loss / len(val_loader)\n",
        "      val_losses.append(avg_val_loss)\n",
        "    print(f\"Epoch {epoch+1} - Validation Loss: {avg_val_loss:.4f}\")\n",
        "\n",
        "    #Micro-average  when there are class imbalances\n",
        "    accuracy = accuracy_score(true_labels, predicted_labels)\n",
        "    f1 = f1_score(true_labels, predicted_labels, average='micro')\n",
        "    val_f1_scores.append(f1)\n",
        "    val_accuracies.append(accuracy)\n",
        "\n",
        "\n",
        "    print(f\"Accuracy: {accuracy:.4f}\")\n",
        "    print(f\"F1-score: {f1:.4f}\")\n",
        "\n",
        "    # Check if validation F1-score has improved\n",
        "    if f1 > best_val_f1:\n",
        "        best_val_f1 = f1\n",
        "        early_stopping_counter = 0\n",
        "        torch.save(model.state_dict(), 'best_model.pt')  # Save the best model\n",
        "    else:\n",
        "        early_stopping_counter += 1\n",
        "        if early_stopping_counter >= 3:  # Stop early if validation F1-score doesn't improve for a certain number of consecutive epochs\n",
        "            print(\"Early stopping triggered.\")\n",
        "            break\n",
        "\n",
        "    # Adjust the learning rate based on validation F1-score\n",
        "    scheduler.step(f1)\n"
      ]
    },
    {
      "cell_type": "raw",
      "id": "4744f675",
      "metadata": {
        "id": "4744f675"
      },
      "source": [
        "We try different numbers for the hyperparameters and epochs and those ones left seems to get the best result and avoiding overfitting.."
      ]
    },
    {
      "cell_type": "code",
      "execution_count": null,
      "id": "izG0Ok4r-fpx",
      "metadata": {
        "colab": {
          "base_uri": "https://localhost:8080/"
        },
        "id": "izG0Ok4r-fpx",
        "outputId": "c2bfb333-e4ea-4a6d-b120-12cf84e18374"
      },
      "outputs": [
        {
          "output_type": "stream",
          "name": "stderr",
          "text": [
            "Some weights of the model checkpoint at distilbert-base-uncased were not used when initializing DistilBertForSequenceClassification: ['vocab_layer_norm.bias', 'vocab_transform.weight', 'vocab_layer_norm.weight', 'vocab_projector.bias', 'vocab_transform.bias']\n",
            "- This IS expected if you are initializing DistilBertForSequenceClassification from the checkpoint of a model trained on another task or with another architecture (e.g. initializing a BertForSequenceClassification model from a BertForPreTraining model).\n",
            "- This IS NOT expected if you are initializing DistilBertForSequenceClassification from the checkpoint of a model that you expect to be exactly identical (initializing a BertForSequenceClassification model from a BertForSequenceClassification model).\n",
            "Some weights of DistilBertForSequenceClassification were not initialized from the model checkpoint at distilbert-base-uncased and are newly initialized: ['classifier.weight', 'classifier.bias', 'pre_classifier.bias', 'pre_classifier.weight']\n",
            "You should probably TRAIN this model on a down-stream task to be able to use it for predictions and inference.\n"
          ]
        },
        {
          "output_type": "execute_result",
          "data": {
            "text/plain": [
              "<All keys matched successfully>"
            ]
          },
          "metadata": {},
          "execution_count": 19
        }
      ],
      "source": [
        "model = DistilBertForSequenceClassification.from_pretrained('distilbert-base-uncased', num_labels=5)\n",
        "model.load_state_dict(torch.load('best_model.pt'))"
      ]
    },
    {
      "cell_type": "markdown",
      "id": "5inknFUhxXEU",
      "metadata": {
        "id": "5inknFUhxXEU"
      },
      "source": [
        "### Final evaluation  on the  unseen data"
      ]
    },
    {
      "cell_type": "code",
      "execution_count": null,
      "id": "3409804b",
      "metadata": {
        "colab": {
          "base_uri": "https://localhost:8080/"
        },
        "id": "3409804b",
        "outputId": "8b97d7e3-b7d1-4210-8524-69c0d6fd7c90"
      },
      "outputs": [
        {
          "output_type": "stream",
          "name": "stdout",
          "text": [
            "Confusion Matrix:\n",
            "[[ 231   19   23    4   32]\n",
            " [  76   32   80    8   18]\n",
            " [  31   14  147   66   55]\n",
            " [  10    1   57  163  312]\n",
            " [  19    2   28   91 2081]]\n",
            "Accuracy: 0.7493\n",
            "Precision: 0.7372\n",
            "Recall: 0.7372\n",
            "F1-score: 0.7372\n"
          ]
        }
      ],
      "source": [
        "# Evaluation on the test set\n",
        "model.to(device)\n",
        "model.eval()\n",
        "test_predictions = []\n",
        "test_labels = []\n",
        "\n",
        "with torch.no_grad():\n",
        "    for batch in test_loader:\n",
        "        input_ids, attention_mask, labels = batch\n",
        "        outputs = model(input_ids=input_ids.to(device), attention_mask=attention_mask.to(device),labels = labels.to(device))\n",
        "        logits = outputs.logits\n",
        "        predictions = torch.argmax(logits, dim=1)\n",
        "\n",
        "        test_predictions.extend(predictions.tolist())\n",
        "        test_labels.extend(labels.tolist())\n",
        "    accuracy_score(test_labels, test_predictions)\n",
        "    precision = precision_score(test_labels, test_predictions, average='micro')\n",
        "    recall = recall_score(test_labels, test_predictions, average='micro')\n",
        "    f1 = f1_score(test_labels, test_predictions, average='micro')\n",
        "\n",
        "\n",
        "# Confusion matrix\n",
        "confusion_mat = confusion_matrix(test_labels, test_predictions)\n",
        "classification_rep = classification_report(test_labels, test_predictions)\n",
        "\n",
        "print(\"Confusion Matrix:\")\n",
        "print(confusion_mat)\n",
        "#print(\"Classification Report:\")\n",
        "#print(classification_rep)\n",
        "\n",
        "print(f\"Accuracy: {accuracy:.4f}\")\n",
        "print(f\"Precision: {precision:.4f}\")\n",
        "print(f\"Recall: {recall:.4f}\")\n",
        "print(f\"F1-score: {f1:.4f}\")"
      ]
    },
    {
      "cell_type": "markdown",
      "id": "Z2ypoCnT9rKk",
      "metadata": {
        "id": "Z2ypoCnT9rKk"
      },
      "source": [
        "Our DISTILBERT model had an accuracy of 0.7493 and a F1-score of 0.7372 in predicting the testing group’s score based\n",
        "on the text. These results are very impressive given that the reviews were subjective and written by individuals."
      ]
    },
    {
      "cell_type": "markdown",
      "id": "f8d98c69",
      "metadata": {
        "id": "f8d98c69"
      },
      "source": [
        "###  Prediction on unseen review"
      ]
    },
    {
      "cell_type": "code",
      "execution_count": null,
      "id": "6e3f20ba",
      "metadata": {
        "id": "6e3f20ba"
      },
      "outputs": [],
      "source": [
        "# Save the trained model\n",
        "\n",
        "model.eval()\n",
        "\n",
        "# Function to predict the rating of a new text input\n",
        "def predict_rating(text):\n",
        "    encoding = tokenizer.encode_plus(text, padding=True, truncation=True, max_length=128, return_tensors='pt')\n",
        "    input_ids = encoding['input_ids']\n",
        "    attention_mask = encoding['attention_mask']\n",
        "\n",
        "    with torch.no_grad():\n",
        "        outputs = model(input_ids=input_ids.to(device), attention_mask=attention_mask.to(device))\n",
        "        logits = outputs.logits\n",
        "        predicted_rating = torch.argmax(logits, dim=1)\n",
        "\n",
        "    return predicted_rating.item()"
      ]
    },
    {
      "cell_type": "markdown",
      "source": [],
      "metadata": {
        "id": "Z5naWfpTesl7"
      },
      "id": "Z5naWfpTesl7"
    },
    {
      "cell_type": "code",
      "execution_count": null,
      "id": "tTwmXWG1V1HM",
      "metadata": {
        "colab": {
          "base_uri": "https://localhost:8080/"
        },
        "id": "tTwmXWG1V1HM",
        "outputId": "ee4fe359-b506-457c-d632-0fe22321b0e9"
      },
      "outputs": [
        {
          "output_type": "stream",
          "name": "stdout",
          "text": [
            "Really positive review\n"
          ]
        }
      ],
      "source": [
        "# Example usage of the predict_rating function\n",
        "new_text = \"Great price on a great gluten-free product!,We have paid over $5 a package in health food stores for this mix.  Buying via Amazon is both cheaper and easier thanks to the direct to the door shipping!  The mix works great in our bread machine and comes out perfect every time!  Our kids love it and usually eat half a loaf as soon as its done!\"\n",
        "\n",
        "predicted_rating = predict_rating(new_text)\n",
        "if predicted_rating ==4:\n",
        "  print( \"Really positive review\")\n",
        "if predicted_rating ==3:\n",
        "  print( \"positive review\")\n",
        "if predicted_rating ==2:\n",
        "  print( \"neutral review\")\n",
        "if predicted_rating ==1:\n",
        "  print( \"bad review \")\n",
        "if predicted_rating ==0:\n",
        "  print( \"Really bad review\")\n"
      ]
    },
    {
      "cell_type": "markdown",
      "id": "9c8f77b1",
      "metadata": {
        "id": "9c8f77b1"
      },
      "source": [
        "### Pickle our model for futur use"
      ]
    },
    {
      "cell_type": "code",
      "execution_count": null,
      "id": "Iy2RIYNnXJsi",
      "metadata": {
        "id": "Iy2RIYNnXJsi"
      },
      "outputs": [],
      "source": [
        "# Pickle the model\n",
        "with open('best_model.pkl', 'wb') as f:\n",
        "    pickle.dump(model, f)"
      ]
    },
    {
      "cell_type": "code",
      "execution_count": null,
      "id": "Eks4gBDlDYUt",
      "metadata": {
        "id": "Eks4gBDlDYUt"
      },
      "outputs": [],
      "source": [
        "# Load the pickled model\n",
        "with open('best_model.pkl', 'rb') as f:\n",
        "   model = pickle.load(f)"
      ]
    }
  ],
  "metadata": {
    "colab": {
      "collapsed_sections": [
        "4WoZ6Bw8Jkzu"
      ],
      "gpuType": "T4",
      "provenance": []
    },
    "kernelspec": {
      "display_name": "nlpreview",
      "language": "python",
      "name": "nlpreview"
    },
    "language_info": {
      "codemirror_mode": {
        "name": "ipython",
        "version": 3
      },
      "file_extension": ".py",
      "mimetype": "text/x-python",
      "name": "python",
      "nbconvert_exporter": "python",
      "pygments_lexer": "ipython3",
      "version": "3.9.16"
    },
    "widgets": {
      "application/vnd.jupyter.widget-state+json": {
        "45b907c9cb694e71af99af5cd57a4719": {
          "model_module": "@jupyter-widgets/controls",
          "model_name": "HBoxModel",
          "model_module_version": "1.5.0",
          "state": {
            "_dom_classes": [],
            "_model_module": "@jupyter-widgets/controls",
            "_model_module_version": "1.5.0",
            "_model_name": "HBoxModel",
            "_view_count": null,
            "_view_module": "@jupyter-widgets/controls",
            "_view_module_version": "1.5.0",
            "_view_name": "HBoxView",
            "box_style": "",
            "children": [
              "IPY_MODEL_d0722dcc989549868167d91b1c10eac8",
              "IPY_MODEL_73398898117b434e9b3d7765fab45ce6",
              "IPY_MODEL_2d102091b92c4f0fa506c19821ba8e9c"
            ],
            "layout": "IPY_MODEL_56c5747e3b5843cc9d3ff9d399736f28"
          }
        },
        "d0722dcc989549868167d91b1c10eac8": {
          "model_module": "@jupyter-widgets/controls",
          "model_name": "HTMLModel",
          "model_module_version": "1.5.0",
          "state": {
            "_dom_classes": [],
            "_model_module": "@jupyter-widgets/controls",
            "_model_module_version": "1.5.0",
            "_model_name": "HTMLModel",
            "_view_count": null,
            "_view_module": "@jupyter-widgets/controls",
            "_view_module_version": "1.5.0",
            "_view_name": "HTMLView",
            "description": "",
            "description_tooltip": null,
            "layout": "IPY_MODEL_8bc65f1d2275469c90faf05517600b85",
            "placeholder": "​",
            "style": "IPY_MODEL_3bccb780e47a4e54b085996ae398c916",
            "value": "100%"
          }
        },
        "73398898117b434e9b3d7765fab45ce6": {
          "model_module": "@jupyter-widgets/controls",
          "model_name": "FloatProgressModel",
          "model_module_version": "1.5.0",
          "state": {
            "_dom_classes": [],
            "_model_module": "@jupyter-widgets/controls",
            "_model_module_version": "1.5.0",
            "_model_name": "FloatProgressModel",
            "_view_count": null,
            "_view_module": "@jupyter-widgets/controls",
            "_view_module_version": "1.5.0",
            "_view_name": "ProgressView",
            "bar_style": "success",
            "description": "",
            "description_tooltip": null,
            "layout": "IPY_MODEL_2c61e876878f42aab103d93d01c3648b",
            "max": 18000,
            "min": 0,
            "orientation": "horizontal",
            "style": "IPY_MODEL_3f16bf364ba74055a1b3759005443e3d",
            "value": 18000
          }
        },
        "2d102091b92c4f0fa506c19821ba8e9c": {
          "model_module": "@jupyter-widgets/controls",
          "model_name": "HTMLModel",
          "model_module_version": "1.5.0",
          "state": {
            "_dom_classes": [],
            "_model_module": "@jupyter-widgets/controls",
            "_model_module_version": "1.5.0",
            "_model_name": "HTMLModel",
            "_view_count": null,
            "_view_module": "@jupyter-widgets/controls",
            "_view_module_version": "1.5.0",
            "_view_name": "HTMLView",
            "description": "",
            "description_tooltip": null,
            "layout": "IPY_MODEL_da9fc0a9878f4fe991c70a4afcdcf6dd",
            "placeholder": "​",
            "style": "IPY_MODEL_aac3707bd31746da9f328917ce1fff9d",
            "value": " 18000/18000 [00:28&lt;00:00, 1056.25it/s]"
          }
        },
        "56c5747e3b5843cc9d3ff9d399736f28": {
          "model_module": "@jupyter-widgets/base",
          "model_name": "LayoutModel",
          "model_module_version": "1.2.0",
          "state": {
            "_model_module": "@jupyter-widgets/base",
            "_model_module_version": "1.2.0",
            "_model_name": "LayoutModel",
            "_view_count": null,
            "_view_module": "@jupyter-widgets/base",
            "_view_module_version": "1.2.0",
            "_view_name": "LayoutView",
            "align_content": null,
            "align_items": null,
            "align_self": null,
            "border": null,
            "bottom": null,
            "display": null,
            "flex": null,
            "flex_flow": null,
            "grid_area": null,
            "grid_auto_columns": null,
            "grid_auto_flow": null,
            "grid_auto_rows": null,
            "grid_column": null,
            "grid_gap": null,
            "grid_row": null,
            "grid_template_areas": null,
            "grid_template_columns": null,
            "grid_template_rows": null,
            "height": null,
            "justify_content": null,
            "justify_items": null,
            "left": null,
            "margin": null,
            "max_height": null,
            "max_width": null,
            "min_height": null,
            "min_width": null,
            "object_fit": null,
            "object_position": null,
            "order": null,
            "overflow": null,
            "overflow_x": null,
            "overflow_y": null,
            "padding": null,
            "right": null,
            "top": null,
            "visibility": null,
            "width": null
          }
        },
        "8bc65f1d2275469c90faf05517600b85": {
          "model_module": "@jupyter-widgets/base",
          "model_name": "LayoutModel",
          "model_module_version": "1.2.0",
          "state": {
            "_model_module": "@jupyter-widgets/base",
            "_model_module_version": "1.2.0",
            "_model_name": "LayoutModel",
            "_view_count": null,
            "_view_module": "@jupyter-widgets/base",
            "_view_module_version": "1.2.0",
            "_view_name": "LayoutView",
            "align_content": null,
            "align_items": null,
            "align_self": null,
            "border": null,
            "bottom": null,
            "display": null,
            "flex": null,
            "flex_flow": null,
            "grid_area": null,
            "grid_auto_columns": null,
            "grid_auto_flow": null,
            "grid_auto_rows": null,
            "grid_column": null,
            "grid_gap": null,
            "grid_row": null,
            "grid_template_areas": null,
            "grid_template_columns": null,
            "grid_template_rows": null,
            "height": null,
            "justify_content": null,
            "justify_items": null,
            "left": null,
            "margin": null,
            "max_height": null,
            "max_width": null,
            "min_height": null,
            "min_width": null,
            "object_fit": null,
            "object_position": null,
            "order": null,
            "overflow": null,
            "overflow_x": null,
            "overflow_y": null,
            "padding": null,
            "right": null,
            "top": null,
            "visibility": null,
            "width": null
          }
        },
        "3bccb780e47a4e54b085996ae398c916": {
          "model_module": "@jupyter-widgets/controls",
          "model_name": "DescriptionStyleModel",
          "model_module_version": "1.5.0",
          "state": {
            "_model_module": "@jupyter-widgets/controls",
            "_model_module_version": "1.5.0",
            "_model_name": "DescriptionStyleModel",
            "_view_count": null,
            "_view_module": "@jupyter-widgets/base",
            "_view_module_version": "1.2.0",
            "_view_name": "StyleView",
            "description_width": ""
          }
        },
        "2c61e876878f42aab103d93d01c3648b": {
          "model_module": "@jupyter-widgets/base",
          "model_name": "LayoutModel",
          "model_module_version": "1.2.0",
          "state": {
            "_model_module": "@jupyter-widgets/base",
            "_model_module_version": "1.2.0",
            "_model_name": "LayoutModel",
            "_view_count": null,
            "_view_module": "@jupyter-widgets/base",
            "_view_module_version": "1.2.0",
            "_view_name": "LayoutView",
            "align_content": null,
            "align_items": null,
            "align_self": null,
            "border": null,
            "bottom": null,
            "display": null,
            "flex": null,
            "flex_flow": null,
            "grid_area": null,
            "grid_auto_columns": null,
            "grid_auto_flow": null,
            "grid_auto_rows": null,
            "grid_column": null,
            "grid_gap": null,
            "grid_row": null,
            "grid_template_areas": null,
            "grid_template_columns": null,
            "grid_template_rows": null,
            "height": null,
            "justify_content": null,
            "justify_items": null,
            "left": null,
            "margin": null,
            "max_height": null,
            "max_width": null,
            "min_height": null,
            "min_width": null,
            "object_fit": null,
            "object_position": null,
            "order": null,
            "overflow": null,
            "overflow_x": null,
            "overflow_y": null,
            "padding": null,
            "right": null,
            "top": null,
            "visibility": null,
            "width": null
          }
        },
        "3f16bf364ba74055a1b3759005443e3d": {
          "model_module": "@jupyter-widgets/controls",
          "model_name": "ProgressStyleModel",
          "model_module_version": "1.5.0",
          "state": {
            "_model_module": "@jupyter-widgets/controls",
            "_model_module_version": "1.5.0",
            "_model_name": "ProgressStyleModel",
            "_view_count": null,
            "_view_module": "@jupyter-widgets/base",
            "_view_module_version": "1.2.0",
            "_view_name": "StyleView",
            "bar_color": null,
            "description_width": ""
          }
        },
        "da9fc0a9878f4fe991c70a4afcdcf6dd": {
          "model_module": "@jupyter-widgets/base",
          "model_name": "LayoutModel",
          "model_module_version": "1.2.0",
          "state": {
            "_model_module": "@jupyter-widgets/base",
            "_model_module_version": "1.2.0",
            "_model_name": "LayoutModel",
            "_view_count": null,
            "_view_module": "@jupyter-widgets/base",
            "_view_module_version": "1.2.0",
            "_view_name": "LayoutView",
            "align_content": null,
            "align_items": null,
            "align_self": null,
            "border": null,
            "bottom": null,
            "display": null,
            "flex": null,
            "flex_flow": null,
            "grid_area": null,
            "grid_auto_columns": null,
            "grid_auto_flow": null,
            "grid_auto_rows": null,
            "grid_column": null,
            "grid_gap": null,
            "grid_row": null,
            "grid_template_areas": null,
            "grid_template_columns": null,
            "grid_template_rows": null,
            "height": null,
            "justify_content": null,
            "justify_items": null,
            "left": null,
            "margin": null,
            "max_height": null,
            "max_width": null,
            "min_height": null,
            "min_width": null,
            "object_fit": null,
            "object_position": null,
            "order": null,
            "overflow": null,
            "overflow_x": null,
            "overflow_y": null,
            "padding": null,
            "right": null,
            "top": null,
            "visibility": null,
            "width": null
          }
        },
        "aac3707bd31746da9f328917ce1fff9d": {
          "model_module": "@jupyter-widgets/controls",
          "model_name": "DescriptionStyleModel",
          "model_module_version": "1.5.0",
          "state": {
            "_model_module": "@jupyter-widgets/controls",
            "_model_module_version": "1.5.0",
            "_model_name": "DescriptionStyleModel",
            "_view_count": null,
            "_view_module": "@jupyter-widgets/base",
            "_view_module_version": "1.2.0",
            "_view_name": "StyleView",
            "description_width": ""
          }
        },
        "f99b1a342306484dbd6112ba4e2db8a7": {
          "model_module": "@jupyter-widgets/controls",
          "model_name": "HBoxModel",
          "model_module_version": "1.5.0",
          "state": {
            "_dom_classes": [],
            "_model_module": "@jupyter-widgets/controls",
            "_model_module_version": "1.5.0",
            "_model_name": "HBoxModel",
            "_view_count": null,
            "_view_module": "@jupyter-widgets/controls",
            "_view_module_version": "1.5.0",
            "_view_name": "HBoxView",
            "box_style": "",
            "children": [
              "IPY_MODEL_a840978ce01c4df4a24f77e16669e822",
              "IPY_MODEL_fb9c94235ddd40068f7abbf26751e998",
              "IPY_MODEL_db518b9365434627a9c4d9b73f2be02f"
            ],
            "layout": "IPY_MODEL_84b58a57310945dcb761646e33b38c09"
          }
        },
        "a840978ce01c4df4a24f77e16669e822": {
          "model_module": "@jupyter-widgets/controls",
          "model_name": "HTMLModel",
          "model_module_version": "1.5.0",
          "state": {
            "_dom_classes": [],
            "_model_module": "@jupyter-widgets/controls",
            "_model_module_version": "1.5.0",
            "_model_name": "HTMLModel",
            "_view_count": null,
            "_view_module": "@jupyter-widgets/controls",
            "_view_module_version": "1.5.0",
            "_view_name": "HTMLView",
            "description": "",
            "description_tooltip": null,
            "layout": "IPY_MODEL_99fdf3a60ae94c52a24905bfe50a7526",
            "placeholder": "​",
            "style": "IPY_MODEL_6cd67586535d4a4d86d142281c6aa457",
            "value": "Downloading (…)okenizer_config.json: 100%"
          }
        },
        "fb9c94235ddd40068f7abbf26751e998": {
          "model_module": "@jupyter-widgets/controls",
          "model_name": "FloatProgressModel",
          "model_module_version": "1.5.0",
          "state": {
            "_dom_classes": [],
            "_model_module": "@jupyter-widgets/controls",
            "_model_module_version": "1.5.0",
            "_model_name": "FloatProgressModel",
            "_view_count": null,
            "_view_module": "@jupyter-widgets/controls",
            "_view_module_version": "1.5.0",
            "_view_name": "ProgressView",
            "bar_style": "success",
            "description": "",
            "description_tooltip": null,
            "layout": "IPY_MODEL_b071548c561c436c85cec28ab09e7ef3",
            "max": 28,
            "min": 0,
            "orientation": "horizontal",
            "style": "IPY_MODEL_6ffc4425814145c09dc5404f3c634317",
            "value": 28
          }
        },
        "db518b9365434627a9c4d9b73f2be02f": {
          "model_module": "@jupyter-widgets/controls",
          "model_name": "HTMLModel",
          "model_module_version": "1.5.0",
          "state": {
            "_dom_classes": [],
            "_model_module": "@jupyter-widgets/controls",
            "_model_module_version": "1.5.0",
            "_model_name": "HTMLModel",
            "_view_count": null,
            "_view_module": "@jupyter-widgets/controls",
            "_view_module_version": "1.5.0",
            "_view_name": "HTMLView",
            "description": "",
            "description_tooltip": null,
            "layout": "IPY_MODEL_bac8b2d0a26c4d4fa65aebabeb346357",
            "placeholder": "​",
            "style": "IPY_MODEL_c1e1a98698b1499c93ed21e8d6327644",
            "value": " 28.0/28.0 [00:00&lt;00:00, 482B/s]"
          }
        },
        "84b58a57310945dcb761646e33b38c09": {
          "model_module": "@jupyter-widgets/base",
          "model_name": "LayoutModel",
          "model_module_version": "1.2.0",
          "state": {
            "_model_module": "@jupyter-widgets/base",
            "_model_module_version": "1.2.0",
            "_model_name": "LayoutModel",
            "_view_count": null,
            "_view_module": "@jupyter-widgets/base",
            "_view_module_version": "1.2.0",
            "_view_name": "LayoutView",
            "align_content": null,
            "align_items": null,
            "align_self": null,
            "border": null,
            "bottom": null,
            "display": null,
            "flex": null,
            "flex_flow": null,
            "grid_area": null,
            "grid_auto_columns": null,
            "grid_auto_flow": null,
            "grid_auto_rows": null,
            "grid_column": null,
            "grid_gap": null,
            "grid_row": null,
            "grid_template_areas": null,
            "grid_template_columns": null,
            "grid_template_rows": null,
            "height": null,
            "justify_content": null,
            "justify_items": null,
            "left": null,
            "margin": null,
            "max_height": null,
            "max_width": null,
            "min_height": null,
            "min_width": null,
            "object_fit": null,
            "object_position": null,
            "order": null,
            "overflow": null,
            "overflow_x": null,
            "overflow_y": null,
            "padding": null,
            "right": null,
            "top": null,
            "visibility": null,
            "width": null
          }
        },
        "99fdf3a60ae94c52a24905bfe50a7526": {
          "model_module": "@jupyter-widgets/base",
          "model_name": "LayoutModel",
          "model_module_version": "1.2.0",
          "state": {
            "_model_module": "@jupyter-widgets/base",
            "_model_module_version": "1.2.0",
            "_model_name": "LayoutModel",
            "_view_count": null,
            "_view_module": "@jupyter-widgets/base",
            "_view_module_version": "1.2.0",
            "_view_name": "LayoutView",
            "align_content": null,
            "align_items": null,
            "align_self": null,
            "border": null,
            "bottom": null,
            "display": null,
            "flex": null,
            "flex_flow": null,
            "grid_area": null,
            "grid_auto_columns": null,
            "grid_auto_flow": null,
            "grid_auto_rows": null,
            "grid_column": null,
            "grid_gap": null,
            "grid_row": null,
            "grid_template_areas": null,
            "grid_template_columns": null,
            "grid_template_rows": null,
            "height": null,
            "justify_content": null,
            "justify_items": null,
            "left": null,
            "margin": null,
            "max_height": null,
            "max_width": null,
            "min_height": null,
            "min_width": null,
            "object_fit": null,
            "object_position": null,
            "order": null,
            "overflow": null,
            "overflow_x": null,
            "overflow_y": null,
            "padding": null,
            "right": null,
            "top": null,
            "visibility": null,
            "width": null
          }
        },
        "6cd67586535d4a4d86d142281c6aa457": {
          "model_module": "@jupyter-widgets/controls",
          "model_name": "DescriptionStyleModel",
          "model_module_version": "1.5.0",
          "state": {
            "_model_module": "@jupyter-widgets/controls",
            "_model_module_version": "1.5.0",
            "_model_name": "DescriptionStyleModel",
            "_view_count": null,
            "_view_module": "@jupyter-widgets/base",
            "_view_module_version": "1.2.0",
            "_view_name": "StyleView",
            "description_width": ""
          }
        },
        "b071548c561c436c85cec28ab09e7ef3": {
          "model_module": "@jupyter-widgets/base",
          "model_name": "LayoutModel",
          "model_module_version": "1.2.0",
          "state": {
            "_model_module": "@jupyter-widgets/base",
            "_model_module_version": "1.2.0",
            "_model_name": "LayoutModel",
            "_view_count": null,
            "_view_module": "@jupyter-widgets/base",
            "_view_module_version": "1.2.0",
            "_view_name": "LayoutView",
            "align_content": null,
            "align_items": null,
            "align_self": null,
            "border": null,
            "bottom": null,
            "display": null,
            "flex": null,
            "flex_flow": null,
            "grid_area": null,
            "grid_auto_columns": null,
            "grid_auto_flow": null,
            "grid_auto_rows": null,
            "grid_column": null,
            "grid_gap": null,
            "grid_row": null,
            "grid_template_areas": null,
            "grid_template_columns": null,
            "grid_template_rows": null,
            "height": null,
            "justify_content": null,
            "justify_items": null,
            "left": null,
            "margin": null,
            "max_height": null,
            "max_width": null,
            "min_height": null,
            "min_width": null,
            "object_fit": null,
            "object_position": null,
            "order": null,
            "overflow": null,
            "overflow_x": null,
            "overflow_y": null,
            "padding": null,
            "right": null,
            "top": null,
            "visibility": null,
            "width": null
          }
        },
        "6ffc4425814145c09dc5404f3c634317": {
          "model_module": "@jupyter-widgets/controls",
          "model_name": "ProgressStyleModel",
          "model_module_version": "1.5.0",
          "state": {
            "_model_module": "@jupyter-widgets/controls",
            "_model_module_version": "1.5.0",
            "_model_name": "ProgressStyleModel",
            "_view_count": null,
            "_view_module": "@jupyter-widgets/base",
            "_view_module_version": "1.2.0",
            "_view_name": "StyleView",
            "bar_color": null,
            "description_width": ""
          }
        },
        "bac8b2d0a26c4d4fa65aebabeb346357": {
          "model_module": "@jupyter-widgets/base",
          "model_name": "LayoutModel",
          "model_module_version": "1.2.0",
          "state": {
            "_model_module": "@jupyter-widgets/base",
            "_model_module_version": "1.2.0",
            "_model_name": "LayoutModel",
            "_view_count": null,
            "_view_module": "@jupyter-widgets/base",
            "_view_module_version": "1.2.0",
            "_view_name": "LayoutView",
            "align_content": null,
            "align_items": null,
            "align_self": null,
            "border": null,
            "bottom": null,
            "display": null,
            "flex": null,
            "flex_flow": null,
            "grid_area": null,
            "grid_auto_columns": null,
            "grid_auto_flow": null,
            "grid_auto_rows": null,
            "grid_column": null,
            "grid_gap": null,
            "grid_row": null,
            "grid_template_areas": null,
            "grid_template_columns": null,
            "grid_template_rows": null,
            "height": null,
            "justify_content": null,
            "justify_items": null,
            "left": null,
            "margin": null,
            "max_height": null,
            "max_width": null,
            "min_height": null,
            "min_width": null,
            "object_fit": null,
            "object_position": null,
            "order": null,
            "overflow": null,
            "overflow_x": null,
            "overflow_y": null,
            "padding": null,
            "right": null,
            "top": null,
            "visibility": null,
            "width": null
          }
        },
        "c1e1a98698b1499c93ed21e8d6327644": {
          "model_module": "@jupyter-widgets/controls",
          "model_name": "DescriptionStyleModel",
          "model_module_version": "1.5.0",
          "state": {
            "_model_module": "@jupyter-widgets/controls",
            "_model_module_version": "1.5.0",
            "_model_name": "DescriptionStyleModel",
            "_view_count": null,
            "_view_module": "@jupyter-widgets/base",
            "_view_module_version": "1.2.0",
            "_view_name": "StyleView",
            "description_width": ""
          }
        },
        "7498832b18074dc58b669842636f0a0b": {
          "model_module": "@jupyter-widgets/controls",
          "model_name": "HBoxModel",
          "model_module_version": "1.5.0",
          "state": {
            "_dom_classes": [],
            "_model_module": "@jupyter-widgets/controls",
            "_model_module_version": "1.5.0",
            "_model_name": "HBoxModel",
            "_view_count": null,
            "_view_module": "@jupyter-widgets/controls",
            "_view_module_version": "1.5.0",
            "_view_name": "HBoxView",
            "box_style": "",
            "children": [
              "IPY_MODEL_483372857bc6415fb6aa8bcfe73a6aa9",
              "IPY_MODEL_391273d7289f4d449a6aec8a8e3561e6",
              "IPY_MODEL_7a6b45c80667463ea29d8f039be13428"
            ],
            "layout": "IPY_MODEL_1284009e9dae456aaae4ccbc80ddab7a"
          }
        },
        "483372857bc6415fb6aa8bcfe73a6aa9": {
          "model_module": "@jupyter-widgets/controls",
          "model_name": "HTMLModel",
          "model_module_version": "1.5.0",
          "state": {
            "_dom_classes": [],
            "_model_module": "@jupyter-widgets/controls",
            "_model_module_version": "1.5.0",
            "_model_name": "HTMLModel",
            "_view_count": null,
            "_view_module": "@jupyter-widgets/controls",
            "_view_module_version": "1.5.0",
            "_view_name": "HTMLView",
            "description": "",
            "description_tooltip": null,
            "layout": "IPY_MODEL_bfa72dbaa51b4d4eb3fb487f390df81f",
            "placeholder": "​",
            "style": "IPY_MODEL_aa622798a03d4afeb5738d827e943244",
            "value": "Downloading (…)solve/main/vocab.txt: 100%"
          }
        },
        "391273d7289f4d449a6aec8a8e3561e6": {
          "model_module": "@jupyter-widgets/controls",
          "model_name": "FloatProgressModel",
          "model_module_version": "1.5.0",
          "state": {
            "_dom_classes": [],
            "_model_module": "@jupyter-widgets/controls",
            "_model_module_version": "1.5.0",
            "_model_name": "FloatProgressModel",
            "_view_count": null,
            "_view_module": "@jupyter-widgets/controls",
            "_view_module_version": "1.5.0",
            "_view_name": "ProgressView",
            "bar_style": "success",
            "description": "",
            "description_tooltip": null,
            "layout": "IPY_MODEL_c35d0bbd8a2140418faa784041eaa219",
            "max": 231508,
            "min": 0,
            "orientation": "horizontal",
            "style": "IPY_MODEL_e99f1fc1d7944e9cbc9895fc81dad445",
            "value": 231508
          }
        },
        "7a6b45c80667463ea29d8f039be13428": {
          "model_module": "@jupyter-widgets/controls",
          "model_name": "HTMLModel",
          "model_module_version": "1.5.0",
          "state": {
            "_dom_classes": [],
            "_model_module": "@jupyter-widgets/controls",
            "_model_module_version": "1.5.0",
            "_model_name": "HTMLModel",
            "_view_count": null,
            "_view_module": "@jupyter-widgets/controls",
            "_view_module_version": "1.5.0",
            "_view_name": "HTMLView",
            "description": "",
            "description_tooltip": null,
            "layout": "IPY_MODEL_e3e0c3ba9447406dbf89dcde4aeb68c9",
            "placeholder": "​",
            "style": "IPY_MODEL_828ae2616c154565a8577dcd1e24d901",
            "value": " 232k/232k [00:00&lt;00:00, 338kB/s]"
          }
        },
        "1284009e9dae456aaae4ccbc80ddab7a": {
          "model_module": "@jupyter-widgets/base",
          "model_name": "LayoutModel",
          "model_module_version": "1.2.0",
          "state": {
            "_model_module": "@jupyter-widgets/base",
            "_model_module_version": "1.2.0",
            "_model_name": "LayoutModel",
            "_view_count": null,
            "_view_module": "@jupyter-widgets/base",
            "_view_module_version": "1.2.0",
            "_view_name": "LayoutView",
            "align_content": null,
            "align_items": null,
            "align_self": null,
            "border": null,
            "bottom": null,
            "display": null,
            "flex": null,
            "flex_flow": null,
            "grid_area": null,
            "grid_auto_columns": null,
            "grid_auto_flow": null,
            "grid_auto_rows": null,
            "grid_column": null,
            "grid_gap": null,
            "grid_row": null,
            "grid_template_areas": null,
            "grid_template_columns": null,
            "grid_template_rows": null,
            "height": null,
            "justify_content": null,
            "justify_items": null,
            "left": null,
            "margin": null,
            "max_height": null,
            "max_width": null,
            "min_height": null,
            "min_width": null,
            "object_fit": null,
            "object_position": null,
            "order": null,
            "overflow": null,
            "overflow_x": null,
            "overflow_y": null,
            "padding": null,
            "right": null,
            "top": null,
            "visibility": null,
            "width": null
          }
        },
        "bfa72dbaa51b4d4eb3fb487f390df81f": {
          "model_module": "@jupyter-widgets/base",
          "model_name": "LayoutModel",
          "model_module_version": "1.2.0",
          "state": {
            "_model_module": "@jupyter-widgets/base",
            "_model_module_version": "1.2.0",
            "_model_name": "LayoutModel",
            "_view_count": null,
            "_view_module": "@jupyter-widgets/base",
            "_view_module_version": "1.2.0",
            "_view_name": "LayoutView",
            "align_content": null,
            "align_items": null,
            "align_self": null,
            "border": null,
            "bottom": null,
            "display": null,
            "flex": null,
            "flex_flow": null,
            "grid_area": null,
            "grid_auto_columns": null,
            "grid_auto_flow": null,
            "grid_auto_rows": null,
            "grid_column": null,
            "grid_gap": null,
            "grid_row": null,
            "grid_template_areas": null,
            "grid_template_columns": null,
            "grid_template_rows": null,
            "height": null,
            "justify_content": null,
            "justify_items": null,
            "left": null,
            "margin": null,
            "max_height": null,
            "max_width": null,
            "min_height": null,
            "min_width": null,
            "object_fit": null,
            "object_position": null,
            "order": null,
            "overflow": null,
            "overflow_x": null,
            "overflow_y": null,
            "padding": null,
            "right": null,
            "top": null,
            "visibility": null,
            "width": null
          }
        },
        "aa622798a03d4afeb5738d827e943244": {
          "model_module": "@jupyter-widgets/controls",
          "model_name": "DescriptionStyleModel",
          "model_module_version": "1.5.0",
          "state": {
            "_model_module": "@jupyter-widgets/controls",
            "_model_module_version": "1.5.0",
            "_model_name": "DescriptionStyleModel",
            "_view_count": null,
            "_view_module": "@jupyter-widgets/base",
            "_view_module_version": "1.2.0",
            "_view_name": "StyleView",
            "description_width": ""
          }
        },
        "c35d0bbd8a2140418faa784041eaa219": {
          "model_module": "@jupyter-widgets/base",
          "model_name": "LayoutModel",
          "model_module_version": "1.2.0",
          "state": {
            "_model_module": "@jupyter-widgets/base",
            "_model_module_version": "1.2.0",
            "_model_name": "LayoutModel",
            "_view_count": null,
            "_view_module": "@jupyter-widgets/base",
            "_view_module_version": "1.2.0",
            "_view_name": "LayoutView",
            "align_content": null,
            "align_items": null,
            "align_self": null,
            "border": null,
            "bottom": null,
            "display": null,
            "flex": null,
            "flex_flow": null,
            "grid_area": null,
            "grid_auto_columns": null,
            "grid_auto_flow": null,
            "grid_auto_rows": null,
            "grid_column": null,
            "grid_gap": null,
            "grid_row": null,
            "grid_template_areas": null,
            "grid_template_columns": null,
            "grid_template_rows": null,
            "height": null,
            "justify_content": null,
            "justify_items": null,
            "left": null,
            "margin": null,
            "max_height": null,
            "max_width": null,
            "min_height": null,
            "min_width": null,
            "object_fit": null,
            "object_position": null,
            "order": null,
            "overflow": null,
            "overflow_x": null,
            "overflow_y": null,
            "padding": null,
            "right": null,
            "top": null,
            "visibility": null,
            "width": null
          }
        },
        "e99f1fc1d7944e9cbc9895fc81dad445": {
          "model_module": "@jupyter-widgets/controls",
          "model_name": "ProgressStyleModel",
          "model_module_version": "1.5.0",
          "state": {
            "_model_module": "@jupyter-widgets/controls",
            "_model_module_version": "1.5.0",
            "_model_name": "ProgressStyleModel",
            "_view_count": null,
            "_view_module": "@jupyter-widgets/base",
            "_view_module_version": "1.2.0",
            "_view_name": "StyleView",
            "bar_color": null,
            "description_width": ""
          }
        },
        "e3e0c3ba9447406dbf89dcde4aeb68c9": {
          "model_module": "@jupyter-widgets/base",
          "model_name": "LayoutModel",
          "model_module_version": "1.2.0",
          "state": {
            "_model_module": "@jupyter-widgets/base",
            "_model_module_version": "1.2.0",
            "_model_name": "LayoutModel",
            "_view_count": null,
            "_view_module": "@jupyter-widgets/base",
            "_view_module_version": "1.2.0",
            "_view_name": "LayoutView",
            "align_content": null,
            "align_items": null,
            "align_self": null,
            "border": null,
            "bottom": null,
            "display": null,
            "flex": null,
            "flex_flow": null,
            "grid_area": null,
            "grid_auto_columns": null,
            "grid_auto_flow": null,
            "grid_auto_rows": null,
            "grid_column": null,
            "grid_gap": null,
            "grid_row": null,
            "grid_template_areas": null,
            "grid_template_columns": null,
            "grid_template_rows": null,
            "height": null,
            "justify_content": null,
            "justify_items": null,
            "left": null,
            "margin": null,
            "max_height": null,
            "max_width": null,
            "min_height": null,
            "min_width": null,
            "object_fit": null,
            "object_position": null,
            "order": null,
            "overflow": null,
            "overflow_x": null,
            "overflow_y": null,
            "padding": null,
            "right": null,
            "top": null,
            "visibility": null,
            "width": null
          }
        },
        "828ae2616c154565a8577dcd1e24d901": {
          "model_module": "@jupyter-widgets/controls",
          "model_name": "DescriptionStyleModel",
          "model_module_version": "1.5.0",
          "state": {
            "_model_module": "@jupyter-widgets/controls",
            "_model_module_version": "1.5.0",
            "_model_name": "DescriptionStyleModel",
            "_view_count": null,
            "_view_module": "@jupyter-widgets/base",
            "_view_module_version": "1.2.0",
            "_view_name": "StyleView",
            "description_width": ""
          }
        },
        "b81ad7b35a0c4eff9e9f2dac78dcdcd6": {
          "model_module": "@jupyter-widgets/controls",
          "model_name": "HBoxModel",
          "model_module_version": "1.5.0",
          "state": {
            "_dom_classes": [],
            "_model_module": "@jupyter-widgets/controls",
            "_model_module_version": "1.5.0",
            "_model_name": "HBoxModel",
            "_view_count": null,
            "_view_module": "@jupyter-widgets/controls",
            "_view_module_version": "1.5.0",
            "_view_name": "HBoxView",
            "box_style": "",
            "children": [
              "IPY_MODEL_4227b03930544b46b8c75b8bdd9ce3d7",
              "IPY_MODEL_91b5457d6995436d9d55a3382ce3784a",
              "IPY_MODEL_5177895efe0240849a8cf1ea4973d8b8"
            ],
            "layout": "IPY_MODEL_d26384a7be8b467dac677bfa3b405125"
          }
        },
        "4227b03930544b46b8c75b8bdd9ce3d7": {
          "model_module": "@jupyter-widgets/controls",
          "model_name": "HTMLModel",
          "model_module_version": "1.5.0",
          "state": {
            "_dom_classes": [],
            "_model_module": "@jupyter-widgets/controls",
            "_model_module_version": "1.5.0",
            "_model_name": "HTMLModel",
            "_view_count": null,
            "_view_module": "@jupyter-widgets/controls",
            "_view_module_version": "1.5.0",
            "_view_name": "HTMLView",
            "description": "",
            "description_tooltip": null,
            "layout": "IPY_MODEL_2291e3a69d1e4f548138140f9a0eae67",
            "placeholder": "​",
            "style": "IPY_MODEL_23e2cbd6ad784000a3c10821fc738372",
            "value": "Downloading (…)/main/tokenizer.json: 100%"
          }
        },
        "91b5457d6995436d9d55a3382ce3784a": {
          "model_module": "@jupyter-widgets/controls",
          "model_name": "FloatProgressModel",
          "model_module_version": "1.5.0",
          "state": {
            "_dom_classes": [],
            "_model_module": "@jupyter-widgets/controls",
            "_model_module_version": "1.5.0",
            "_model_name": "FloatProgressModel",
            "_view_count": null,
            "_view_module": "@jupyter-widgets/controls",
            "_view_module_version": "1.5.0",
            "_view_name": "ProgressView",
            "bar_style": "success",
            "description": "",
            "description_tooltip": null,
            "layout": "IPY_MODEL_871bd8c6f6c8462d90120933b044db2f",
            "max": 466062,
            "min": 0,
            "orientation": "horizontal",
            "style": "IPY_MODEL_b25e93c074eb4838a4f7922a7b9c3520",
            "value": 466062
          }
        },
        "5177895efe0240849a8cf1ea4973d8b8": {
          "model_module": "@jupyter-widgets/controls",
          "model_name": "HTMLModel",
          "model_module_version": "1.5.0",
          "state": {
            "_dom_classes": [],
            "_model_module": "@jupyter-widgets/controls",
            "_model_module_version": "1.5.0",
            "_model_name": "HTMLModel",
            "_view_count": null,
            "_view_module": "@jupyter-widgets/controls",
            "_view_module_version": "1.5.0",
            "_view_name": "HTMLView",
            "description": "",
            "description_tooltip": null,
            "layout": "IPY_MODEL_3f1a4caad584443f90474ee01de5e827",
            "placeholder": "​",
            "style": "IPY_MODEL_b4a8911e811e4bceb69624b9aead65b9",
            "value": " 466k/466k [00:00&lt;00:00, 2.19MB/s]"
          }
        },
        "d26384a7be8b467dac677bfa3b405125": {
          "model_module": "@jupyter-widgets/base",
          "model_name": "LayoutModel",
          "model_module_version": "1.2.0",
          "state": {
            "_model_module": "@jupyter-widgets/base",
            "_model_module_version": "1.2.0",
            "_model_name": "LayoutModel",
            "_view_count": null,
            "_view_module": "@jupyter-widgets/base",
            "_view_module_version": "1.2.0",
            "_view_name": "LayoutView",
            "align_content": null,
            "align_items": null,
            "align_self": null,
            "border": null,
            "bottom": null,
            "display": null,
            "flex": null,
            "flex_flow": null,
            "grid_area": null,
            "grid_auto_columns": null,
            "grid_auto_flow": null,
            "grid_auto_rows": null,
            "grid_column": null,
            "grid_gap": null,
            "grid_row": null,
            "grid_template_areas": null,
            "grid_template_columns": null,
            "grid_template_rows": null,
            "height": null,
            "justify_content": null,
            "justify_items": null,
            "left": null,
            "margin": null,
            "max_height": null,
            "max_width": null,
            "min_height": null,
            "min_width": null,
            "object_fit": null,
            "object_position": null,
            "order": null,
            "overflow": null,
            "overflow_x": null,
            "overflow_y": null,
            "padding": null,
            "right": null,
            "top": null,
            "visibility": null,
            "width": null
          }
        },
        "2291e3a69d1e4f548138140f9a0eae67": {
          "model_module": "@jupyter-widgets/base",
          "model_name": "LayoutModel",
          "model_module_version": "1.2.0",
          "state": {
            "_model_module": "@jupyter-widgets/base",
            "_model_module_version": "1.2.0",
            "_model_name": "LayoutModel",
            "_view_count": null,
            "_view_module": "@jupyter-widgets/base",
            "_view_module_version": "1.2.0",
            "_view_name": "LayoutView",
            "align_content": null,
            "align_items": null,
            "align_self": null,
            "border": null,
            "bottom": null,
            "display": null,
            "flex": null,
            "flex_flow": null,
            "grid_area": null,
            "grid_auto_columns": null,
            "grid_auto_flow": null,
            "grid_auto_rows": null,
            "grid_column": null,
            "grid_gap": null,
            "grid_row": null,
            "grid_template_areas": null,
            "grid_template_columns": null,
            "grid_template_rows": null,
            "height": null,
            "justify_content": null,
            "justify_items": null,
            "left": null,
            "margin": null,
            "max_height": null,
            "max_width": null,
            "min_height": null,
            "min_width": null,
            "object_fit": null,
            "object_position": null,
            "order": null,
            "overflow": null,
            "overflow_x": null,
            "overflow_y": null,
            "padding": null,
            "right": null,
            "top": null,
            "visibility": null,
            "width": null
          }
        },
        "23e2cbd6ad784000a3c10821fc738372": {
          "model_module": "@jupyter-widgets/controls",
          "model_name": "DescriptionStyleModel",
          "model_module_version": "1.5.0",
          "state": {
            "_model_module": "@jupyter-widgets/controls",
            "_model_module_version": "1.5.0",
            "_model_name": "DescriptionStyleModel",
            "_view_count": null,
            "_view_module": "@jupyter-widgets/base",
            "_view_module_version": "1.2.0",
            "_view_name": "StyleView",
            "description_width": ""
          }
        },
        "871bd8c6f6c8462d90120933b044db2f": {
          "model_module": "@jupyter-widgets/base",
          "model_name": "LayoutModel",
          "model_module_version": "1.2.0",
          "state": {
            "_model_module": "@jupyter-widgets/base",
            "_model_module_version": "1.2.0",
            "_model_name": "LayoutModel",
            "_view_count": null,
            "_view_module": "@jupyter-widgets/base",
            "_view_module_version": "1.2.0",
            "_view_name": "LayoutView",
            "align_content": null,
            "align_items": null,
            "align_self": null,
            "border": null,
            "bottom": null,
            "display": null,
            "flex": null,
            "flex_flow": null,
            "grid_area": null,
            "grid_auto_columns": null,
            "grid_auto_flow": null,
            "grid_auto_rows": null,
            "grid_column": null,
            "grid_gap": null,
            "grid_row": null,
            "grid_template_areas": null,
            "grid_template_columns": null,
            "grid_template_rows": null,
            "height": null,
            "justify_content": null,
            "justify_items": null,
            "left": null,
            "margin": null,
            "max_height": null,
            "max_width": null,
            "min_height": null,
            "min_width": null,
            "object_fit": null,
            "object_position": null,
            "order": null,
            "overflow": null,
            "overflow_x": null,
            "overflow_y": null,
            "padding": null,
            "right": null,
            "top": null,
            "visibility": null,
            "width": null
          }
        },
        "b25e93c074eb4838a4f7922a7b9c3520": {
          "model_module": "@jupyter-widgets/controls",
          "model_name": "ProgressStyleModel",
          "model_module_version": "1.5.0",
          "state": {
            "_model_module": "@jupyter-widgets/controls",
            "_model_module_version": "1.5.0",
            "_model_name": "ProgressStyleModel",
            "_view_count": null,
            "_view_module": "@jupyter-widgets/base",
            "_view_module_version": "1.2.0",
            "_view_name": "StyleView",
            "bar_color": null,
            "description_width": ""
          }
        },
        "3f1a4caad584443f90474ee01de5e827": {
          "model_module": "@jupyter-widgets/base",
          "model_name": "LayoutModel",
          "model_module_version": "1.2.0",
          "state": {
            "_model_module": "@jupyter-widgets/base",
            "_model_module_version": "1.2.0",
            "_model_name": "LayoutModel",
            "_view_count": null,
            "_view_module": "@jupyter-widgets/base",
            "_view_module_version": "1.2.0",
            "_view_name": "LayoutView",
            "align_content": null,
            "align_items": null,
            "align_self": null,
            "border": null,
            "bottom": null,
            "display": null,
            "flex": null,
            "flex_flow": null,
            "grid_area": null,
            "grid_auto_columns": null,
            "grid_auto_flow": null,
            "grid_auto_rows": null,
            "grid_column": null,
            "grid_gap": null,
            "grid_row": null,
            "grid_template_areas": null,
            "grid_template_columns": null,
            "grid_template_rows": null,
            "height": null,
            "justify_content": null,
            "justify_items": null,
            "left": null,
            "margin": null,
            "max_height": null,
            "max_width": null,
            "min_height": null,
            "min_width": null,
            "object_fit": null,
            "object_position": null,
            "order": null,
            "overflow": null,
            "overflow_x": null,
            "overflow_y": null,
            "padding": null,
            "right": null,
            "top": null,
            "visibility": null,
            "width": null
          }
        },
        "b4a8911e811e4bceb69624b9aead65b9": {
          "model_module": "@jupyter-widgets/controls",
          "model_name": "DescriptionStyleModel",
          "model_module_version": "1.5.0",
          "state": {
            "_model_module": "@jupyter-widgets/controls",
            "_model_module_version": "1.5.0",
            "_model_name": "DescriptionStyleModel",
            "_view_count": null,
            "_view_module": "@jupyter-widgets/base",
            "_view_module_version": "1.2.0",
            "_view_name": "StyleView",
            "description_width": ""
          }
        },
        "4538cecefdb04d63a34f32bafc525197": {
          "model_module": "@jupyter-widgets/controls",
          "model_name": "HBoxModel",
          "model_module_version": "1.5.0",
          "state": {
            "_dom_classes": [],
            "_model_module": "@jupyter-widgets/controls",
            "_model_module_version": "1.5.0",
            "_model_name": "HBoxModel",
            "_view_count": null,
            "_view_module": "@jupyter-widgets/controls",
            "_view_module_version": "1.5.0",
            "_view_name": "HBoxView",
            "box_style": "",
            "children": [
              "IPY_MODEL_d402d469898347d09e40ea78594b35dd",
              "IPY_MODEL_fda2e25158bf408aa9c913379606f2d0",
              "IPY_MODEL_b441e1a59cdb4cd697978833429c4b5d"
            ],
            "layout": "IPY_MODEL_cc94e823832f43e8ba469eaa15f709a1"
          }
        },
        "d402d469898347d09e40ea78594b35dd": {
          "model_module": "@jupyter-widgets/controls",
          "model_name": "HTMLModel",
          "model_module_version": "1.5.0",
          "state": {
            "_dom_classes": [],
            "_model_module": "@jupyter-widgets/controls",
            "_model_module_version": "1.5.0",
            "_model_name": "HTMLModel",
            "_view_count": null,
            "_view_module": "@jupyter-widgets/controls",
            "_view_module_version": "1.5.0",
            "_view_name": "HTMLView",
            "description": "",
            "description_tooltip": null,
            "layout": "IPY_MODEL_37cc86cc82174f63b1b5a1e40b5e179f",
            "placeholder": "​",
            "style": "IPY_MODEL_deb0552e63d84dea8fa0997572bc9847",
            "value": "Downloading (…)lve/main/config.json: 100%"
          }
        },
        "fda2e25158bf408aa9c913379606f2d0": {
          "model_module": "@jupyter-widgets/controls",
          "model_name": "FloatProgressModel",
          "model_module_version": "1.5.0",
          "state": {
            "_dom_classes": [],
            "_model_module": "@jupyter-widgets/controls",
            "_model_module_version": "1.5.0",
            "_model_name": "FloatProgressModel",
            "_view_count": null,
            "_view_module": "@jupyter-widgets/controls",
            "_view_module_version": "1.5.0",
            "_view_name": "ProgressView",
            "bar_style": "success",
            "description": "",
            "description_tooltip": null,
            "layout": "IPY_MODEL_5aeff6e078cc4997bc7a165f6601f09c",
            "max": 483,
            "min": 0,
            "orientation": "horizontal",
            "style": "IPY_MODEL_df2170b286af4e069c0dfab8584da812",
            "value": 483
          }
        },
        "b441e1a59cdb4cd697978833429c4b5d": {
          "model_module": "@jupyter-widgets/controls",
          "model_name": "HTMLModel",
          "model_module_version": "1.5.0",
          "state": {
            "_dom_classes": [],
            "_model_module": "@jupyter-widgets/controls",
            "_model_module_version": "1.5.0",
            "_model_name": "HTMLModel",
            "_view_count": null,
            "_view_module": "@jupyter-widgets/controls",
            "_view_module_version": "1.5.0",
            "_view_name": "HTMLView",
            "description": "",
            "description_tooltip": null,
            "layout": "IPY_MODEL_586937bf93aa4336b55244f7319d1658",
            "placeholder": "​",
            "style": "IPY_MODEL_2e3fed41e8cf49b1a81607512ba1f208",
            "value": " 483/483 [00:00&lt;00:00, 13.8kB/s]"
          }
        },
        "cc94e823832f43e8ba469eaa15f709a1": {
          "model_module": "@jupyter-widgets/base",
          "model_name": "LayoutModel",
          "model_module_version": "1.2.0",
          "state": {
            "_model_module": "@jupyter-widgets/base",
            "_model_module_version": "1.2.0",
            "_model_name": "LayoutModel",
            "_view_count": null,
            "_view_module": "@jupyter-widgets/base",
            "_view_module_version": "1.2.0",
            "_view_name": "LayoutView",
            "align_content": null,
            "align_items": null,
            "align_self": null,
            "border": null,
            "bottom": null,
            "display": null,
            "flex": null,
            "flex_flow": null,
            "grid_area": null,
            "grid_auto_columns": null,
            "grid_auto_flow": null,
            "grid_auto_rows": null,
            "grid_column": null,
            "grid_gap": null,
            "grid_row": null,
            "grid_template_areas": null,
            "grid_template_columns": null,
            "grid_template_rows": null,
            "height": null,
            "justify_content": null,
            "justify_items": null,
            "left": null,
            "margin": null,
            "max_height": null,
            "max_width": null,
            "min_height": null,
            "min_width": null,
            "object_fit": null,
            "object_position": null,
            "order": null,
            "overflow": null,
            "overflow_x": null,
            "overflow_y": null,
            "padding": null,
            "right": null,
            "top": null,
            "visibility": null,
            "width": null
          }
        },
        "37cc86cc82174f63b1b5a1e40b5e179f": {
          "model_module": "@jupyter-widgets/base",
          "model_name": "LayoutModel",
          "model_module_version": "1.2.0",
          "state": {
            "_model_module": "@jupyter-widgets/base",
            "_model_module_version": "1.2.0",
            "_model_name": "LayoutModel",
            "_view_count": null,
            "_view_module": "@jupyter-widgets/base",
            "_view_module_version": "1.2.0",
            "_view_name": "LayoutView",
            "align_content": null,
            "align_items": null,
            "align_self": null,
            "border": null,
            "bottom": null,
            "display": null,
            "flex": null,
            "flex_flow": null,
            "grid_area": null,
            "grid_auto_columns": null,
            "grid_auto_flow": null,
            "grid_auto_rows": null,
            "grid_column": null,
            "grid_gap": null,
            "grid_row": null,
            "grid_template_areas": null,
            "grid_template_columns": null,
            "grid_template_rows": null,
            "height": null,
            "justify_content": null,
            "justify_items": null,
            "left": null,
            "margin": null,
            "max_height": null,
            "max_width": null,
            "min_height": null,
            "min_width": null,
            "object_fit": null,
            "object_position": null,
            "order": null,
            "overflow": null,
            "overflow_x": null,
            "overflow_y": null,
            "padding": null,
            "right": null,
            "top": null,
            "visibility": null,
            "width": null
          }
        },
        "deb0552e63d84dea8fa0997572bc9847": {
          "model_module": "@jupyter-widgets/controls",
          "model_name": "DescriptionStyleModel",
          "model_module_version": "1.5.0",
          "state": {
            "_model_module": "@jupyter-widgets/controls",
            "_model_module_version": "1.5.0",
            "_model_name": "DescriptionStyleModel",
            "_view_count": null,
            "_view_module": "@jupyter-widgets/base",
            "_view_module_version": "1.2.0",
            "_view_name": "StyleView",
            "description_width": ""
          }
        },
        "5aeff6e078cc4997bc7a165f6601f09c": {
          "model_module": "@jupyter-widgets/base",
          "model_name": "LayoutModel",
          "model_module_version": "1.2.0",
          "state": {
            "_model_module": "@jupyter-widgets/base",
            "_model_module_version": "1.2.0",
            "_model_name": "LayoutModel",
            "_view_count": null,
            "_view_module": "@jupyter-widgets/base",
            "_view_module_version": "1.2.0",
            "_view_name": "LayoutView",
            "align_content": null,
            "align_items": null,
            "align_self": null,
            "border": null,
            "bottom": null,
            "display": null,
            "flex": null,
            "flex_flow": null,
            "grid_area": null,
            "grid_auto_columns": null,
            "grid_auto_flow": null,
            "grid_auto_rows": null,
            "grid_column": null,
            "grid_gap": null,
            "grid_row": null,
            "grid_template_areas": null,
            "grid_template_columns": null,
            "grid_template_rows": null,
            "height": null,
            "justify_content": null,
            "justify_items": null,
            "left": null,
            "margin": null,
            "max_height": null,
            "max_width": null,
            "min_height": null,
            "min_width": null,
            "object_fit": null,
            "object_position": null,
            "order": null,
            "overflow": null,
            "overflow_x": null,
            "overflow_y": null,
            "padding": null,
            "right": null,
            "top": null,
            "visibility": null,
            "width": null
          }
        },
        "df2170b286af4e069c0dfab8584da812": {
          "model_module": "@jupyter-widgets/controls",
          "model_name": "ProgressStyleModel",
          "model_module_version": "1.5.0",
          "state": {
            "_model_module": "@jupyter-widgets/controls",
            "_model_module_version": "1.5.0",
            "_model_name": "ProgressStyleModel",
            "_view_count": null,
            "_view_module": "@jupyter-widgets/base",
            "_view_module_version": "1.2.0",
            "_view_name": "StyleView",
            "bar_color": null,
            "description_width": ""
          }
        },
        "586937bf93aa4336b55244f7319d1658": {
          "model_module": "@jupyter-widgets/base",
          "model_name": "LayoutModel",
          "model_module_version": "1.2.0",
          "state": {
            "_model_module": "@jupyter-widgets/base",
            "_model_module_version": "1.2.0",
            "_model_name": "LayoutModel",
            "_view_count": null,
            "_view_module": "@jupyter-widgets/base",
            "_view_module_version": "1.2.0",
            "_view_name": "LayoutView",
            "align_content": null,
            "align_items": null,
            "align_self": null,
            "border": null,
            "bottom": null,
            "display": null,
            "flex": null,
            "flex_flow": null,
            "grid_area": null,
            "grid_auto_columns": null,
            "grid_auto_flow": null,
            "grid_auto_rows": null,
            "grid_column": null,
            "grid_gap": null,
            "grid_row": null,
            "grid_template_areas": null,
            "grid_template_columns": null,
            "grid_template_rows": null,
            "height": null,
            "justify_content": null,
            "justify_items": null,
            "left": null,
            "margin": null,
            "max_height": null,
            "max_width": null,
            "min_height": null,
            "min_width": null,
            "object_fit": null,
            "object_position": null,
            "order": null,
            "overflow": null,
            "overflow_x": null,
            "overflow_y": null,
            "padding": null,
            "right": null,
            "top": null,
            "visibility": null,
            "width": null
          }
        },
        "2e3fed41e8cf49b1a81607512ba1f208": {
          "model_module": "@jupyter-widgets/controls",
          "model_name": "DescriptionStyleModel",
          "model_module_version": "1.5.0",
          "state": {
            "_model_module": "@jupyter-widgets/controls",
            "_model_module_version": "1.5.0",
            "_model_name": "DescriptionStyleModel",
            "_view_count": null,
            "_view_module": "@jupyter-widgets/base",
            "_view_module_version": "1.2.0",
            "_view_name": "StyleView",
            "description_width": ""
          }
        },
        "2a8cb914210541a08edee855b788e62e": {
          "model_module": "@jupyter-widgets/controls",
          "model_name": "HBoxModel",
          "model_module_version": "1.5.0",
          "state": {
            "_dom_classes": [],
            "_model_module": "@jupyter-widgets/controls",
            "_model_module_version": "1.5.0",
            "_model_name": "HBoxModel",
            "_view_count": null,
            "_view_module": "@jupyter-widgets/controls",
            "_view_module_version": "1.5.0",
            "_view_name": "HBoxView",
            "box_style": "",
            "children": [
              "IPY_MODEL_9b6f87be1622407a802f30c85c665d62",
              "IPY_MODEL_4425a92624884284a92550a32ac9762e",
              "IPY_MODEL_eb19510960e0467297106e7732c0e2bd"
            ],
            "layout": "IPY_MODEL_4e6bcf1329dd4d86be06756066a43beb"
          }
        },
        "9b6f87be1622407a802f30c85c665d62": {
          "model_module": "@jupyter-widgets/controls",
          "model_name": "HTMLModel",
          "model_module_version": "1.5.0",
          "state": {
            "_dom_classes": [],
            "_model_module": "@jupyter-widgets/controls",
            "_model_module_version": "1.5.0",
            "_model_name": "HTMLModel",
            "_view_count": null,
            "_view_module": "@jupyter-widgets/controls",
            "_view_module_version": "1.5.0",
            "_view_name": "HTMLView",
            "description": "",
            "description_tooltip": null,
            "layout": "IPY_MODEL_5bf332524ce8422ab48e94985d45e31f",
            "placeholder": "​",
            "style": "IPY_MODEL_038e89e9c5404cfdb7b4d45d1bcb0eec",
            "value": "Downloading model.safetensors: 100%"
          }
        },
        "4425a92624884284a92550a32ac9762e": {
          "model_module": "@jupyter-widgets/controls",
          "model_name": "FloatProgressModel",
          "model_module_version": "1.5.0",
          "state": {
            "_dom_classes": [],
            "_model_module": "@jupyter-widgets/controls",
            "_model_module_version": "1.5.0",
            "_model_name": "FloatProgressModel",
            "_view_count": null,
            "_view_module": "@jupyter-widgets/controls",
            "_view_module_version": "1.5.0",
            "_view_name": "ProgressView",
            "bar_style": "success",
            "description": "",
            "description_tooltip": null,
            "layout": "IPY_MODEL_3c5b7abe68734874918f6330c69572d1",
            "max": 267954768,
            "min": 0,
            "orientation": "horizontal",
            "style": "IPY_MODEL_6a42bdc4f092496fa270a92fa0f7399b",
            "value": 267954768
          }
        },
        "eb19510960e0467297106e7732c0e2bd": {
          "model_module": "@jupyter-widgets/controls",
          "model_name": "HTMLModel",
          "model_module_version": "1.5.0",
          "state": {
            "_dom_classes": [],
            "_model_module": "@jupyter-widgets/controls",
            "_model_module_version": "1.5.0",
            "_model_name": "HTMLModel",
            "_view_count": null,
            "_view_module": "@jupyter-widgets/controls",
            "_view_module_version": "1.5.0",
            "_view_name": "HTMLView",
            "description": "",
            "description_tooltip": null,
            "layout": "IPY_MODEL_c633c69a43ad4fdba80fab14c8bd7782",
            "placeholder": "​",
            "style": "IPY_MODEL_166c2756f63f4958a7434411f37b4ff3",
            "value": " 268M/268M [00:00&lt;00:00, 291MB/s]"
          }
        },
        "4e6bcf1329dd4d86be06756066a43beb": {
          "model_module": "@jupyter-widgets/base",
          "model_name": "LayoutModel",
          "model_module_version": "1.2.0",
          "state": {
            "_model_module": "@jupyter-widgets/base",
            "_model_module_version": "1.2.0",
            "_model_name": "LayoutModel",
            "_view_count": null,
            "_view_module": "@jupyter-widgets/base",
            "_view_module_version": "1.2.0",
            "_view_name": "LayoutView",
            "align_content": null,
            "align_items": null,
            "align_self": null,
            "border": null,
            "bottom": null,
            "display": null,
            "flex": null,
            "flex_flow": null,
            "grid_area": null,
            "grid_auto_columns": null,
            "grid_auto_flow": null,
            "grid_auto_rows": null,
            "grid_column": null,
            "grid_gap": null,
            "grid_row": null,
            "grid_template_areas": null,
            "grid_template_columns": null,
            "grid_template_rows": null,
            "height": null,
            "justify_content": null,
            "justify_items": null,
            "left": null,
            "margin": null,
            "max_height": null,
            "max_width": null,
            "min_height": null,
            "min_width": null,
            "object_fit": null,
            "object_position": null,
            "order": null,
            "overflow": null,
            "overflow_x": null,
            "overflow_y": null,
            "padding": null,
            "right": null,
            "top": null,
            "visibility": null,
            "width": null
          }
        },
        "5bf332524ce8422ab48e94985d45e31f": {
          "model_module": "@jupyter-widgets/base",
          "model_name": "LayoutModel",
          "model_module_version": "1.2.0",
          "state": {
            "_model_module": "@jupyter-widgets/base",
            "_model_module_version": "1.2.0",
            "_model_name": "LayoutModel",
            "_view_count": null,
            "_view_module": "@jupyter-widgets/base",
            "_view_module_version": "1.2.0",
            "_view_name": "LayoutView",
            "align_content": null,
            "align_items": null,
            "align_self": null,
            "border": null,
            "bottom": null,
            "display": null,
            "flex": null,
            "flex_flow": null,
            "grid_area": null,
            "grid_auto_columns": null,
            "grid_auto_flow": null,
            "grid_auto_rows": null,
            "grid_column": null,
            "grid_gap": null,
            "grid_row": null,
            "grid_template_areas": null,
            "grid_template_columns": null,
            "grid_template_rows": null,
            "height": null,
            "justify_content": null,
            "justify_items": null,
            "left": null,
            "margin": null,
            "max_height": null,
            "max_width": null,
            "min_height": null,
            "min_width": null,
            "object_fit": null,
            "object_position": null,
            "order": null,
            "overflow": null,
            "overflow_x": null,
            "overflow_y": null,
            "padding": null,
            "right": null,
            "top": null,
            "visibility": null,
            "width": null
          }
        },
        "038e89e9c5404cfdb7b4d45d1bcb0eec": {
          "model_module": "@jupyter-widgets/controls",
          "model_name": "DescriptionStyleModel",
          "model_module_version": "1.5.0",
          "state": {
            "_model_module": "@jupyter-widgets/controls",
            "_model_module_version": "1.5.0",
            "_model_name": "DescriptionStyleModel",
            "_view_count": null,
            "_view_module": "@jupyter-widgets/base",
            "_view_module_version": "1.2.0",
            "_view_name": "StyleView",
            "description_width": ""
          }
        },
        "3c5b7abe68734874918f6330c69572d1": {
          "model_module": "@jupyter-widgets/base",
          "model_name": "LayoutModel",
          "model_module_version": "1.2.0",
          "state": {
            "_model_module": "@jupyter-widgets/base",
            "_model_module_version": "1.2.0",
            "_model_name": "LayoutModel",
            "_view_count": null,
            "_view_module": "@jupyter-widgets/base",
            "_view_module_version": "1.2.0",
            "_view_name": "LayoutView",
            "align_content": null,
            "align_items": null,
            "align_self": null,
            "border": null,
            "bottom": null,
            "display": null,
            "flex": null,
            "flex_flow": null,
            "grid_area": null,
            "grid_auto_columns": null,
            "grid_auto_flow": null,
            "grid_auto_rows": null,
            "grid_column": null,
            "grid_gap": null,
            "grid_row": null,
            "grid_template_areas": null,
            "grid_template_columns": null,
            "grid_template_rows": null,
            "height": null,
            "justify_content": null,
            "justify_items": null,
            "left": null,
            "margin": null,
            "max_height": null,
            "max_width": null,
            "min_height": null,
            "min_width": null,
            "object_fit": null,
            "object_position": null,
            "order": null,
            "overflow": null,
            "overflow_x": null,
            "overflow_y": null,
            "padding": null,
            "right": null,
            "top": null,
            "visibility": null,
            "width": null
          }
        },
        "6a42bdc4f092496fa270a92fa0f7399b": {
          "model_module": "@jupyter-widgets/controls",
          "model_name": "ProgressStyleModel",
          "model_module_version": "1.5.0",
          "state": {
            "_model_module": "@jupyter-widgets/controls",
            "_model_module_version": "1.5.0",
            "_model_name": "ProgressStyleModel",
            "_view_count": null,
            "_view_module": "@jupyter-widgets/base",
            "_view_module_version": "1.2.0",
            "_view_name": "StyleView",
            "bar_color": null,
            "description_width": ""
          }
        },
        "c633c69a43ad4fdba80fab14c8bd7782": {
          "model_module": "@jupyter-widgets/base",
          "model_name": "LayoutModel",
          "model_module_version": "1.2.0",
          "state": {
            "_model_module": "@jupyter-widgets/base",
            "_model_module_version": "1.2.0",
            "_model_name": "LayoutModel",
            "_view_count": null,
            "_view_module": "@jupyter-widgets/base",
            "_view_module_version": "1.2.0",
            "_view_name": "LayoutView",
            "align_content": null,
            "align_items": null,
            "align_self": null,
            "border": null,
            "bottom": null,
            "display": null,
            "flex": null,
            "flex_flow": null,
            "grid_area": null,
            "grid_auto_columns": null,
            "grid_auto_flow": null,
            "grid_auto_rows": null,
            "grid_column": null,
            "grid_gap": null,
            "grid_row": null,
            "grid_template_areas": null,
            "grid_template_columns": null,
            "grid_template_rows": null,
            "height": null,
            "justify_content": null,
            "justify_items": null,
            "left": null,
            "margin": null,
            "max_height": null,
            "max_width": null,
            "min_height": null,
            "min_width": null,
            "object_fit": null,
            "object_position": null,
            "order": null,
            "overflow": null,
            "overflow_x": null,
            "overflow_y": null,
            "padding": null,
            "right": null,
            "top": null,
            "visibility": null,
            "width": null
          }
        },
        "166c2756f63f4958a7434411f37b4ff3": {
          "model_module": "@jupyter-widgets/controls",
          "model_name": "DescriptionStyleModel",
          "model_module_version": "1.5.0",
          "state": {
            "_model_module": "@jupyter-widgets/controls",
            "_model_module_version": "1.5.0",
            "_model_name": "DescriptionStyleModel",
            "_view_count": null,
            "_view_module": "@jupyter-widgets/base",
            "_view_module_version": "1.2.0",
            "_view_name": "StyleView",
            "description_width": ""
          }
        }
      }
    },
    "accelerator": "GPU"
  },
  "nbformat": 4,
  "nbformat_minor": 5
}